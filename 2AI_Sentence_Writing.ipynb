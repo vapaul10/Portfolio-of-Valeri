{
  "nbformat": 4,
  "nbformat_minor": 0,
  "metadata": {
    "colab": {
      "provenance": [],
      "authorship_tag": "ABX9TyOjKtknShzL0e4icAd6ECVc",
      "include_colab_link": true
    },
    "kernelspec": {
      "name": "python3",
      "display_name": "Python 3"
    },
    "language_info": {
      "name": "python"
    }
  },
  "cells": [
    {
      "cell_type": "markdown",
      "metadata": {
        "id": "view-in-github",
        "colab_type": "text"
      },
      "source": [
        "<a href=\"https://colab.research.google.com/github/vapaul10/Portfolio-of-Valeri/blob/main/2AI_Sentence_Writing.ipynb\" target=\"_parent\"><img src=\"https://colab.research.google.com/assets/colab-badge.svg\" alt=\"Open In Colab\"/></a>"
      ]
    },
    {
      "cell_type": "markdown",
      "source": [
        "### Sentence Generating Program \n",
        "###### (from Lambert Book) "
      ],
      "metadata": {
        "id": "ZFe7yDqw46b9"
      }
    },
    {
      "cell_type": "markdown",
      "source": [
        "### Grammar Rules for Sentence Generator\n",
        "#### Pharse      Constituents\n",
        "##### Sentence   Noun + Verb\n",
        "##### Noun       Article + Noun\n",
        "##### Verb       Verb + Noun + Preposition\n",
        "##### Preposititional   Preposition + Noun"
      ],
      "metadata": {
        "id": "P1496o1I5ks4"
      }
    },
    {
      "cell_type": "markdown",
      "source": [
        "###### The variables **articles** and **nouns** used in the program's functions refer to the collectionof actual words belonging to these 2 parts of speech. Two other collections, name verbs and prepositions, also will be used.  The data structure used to represent a collection of words should allow the program to pick 1 word at random."
      ],
      "metadata": {
        "id": "oGt72zJX_God"
      }
    },
    {
      "cell_type": "markdown",
      "source": [
        "###### Because the data structure does not change during the course of the program, you can use tuple of strings.  Four tuples serve as a common pool of data for the functions in the program and are initialized before the function are defined."
      ],
      "metadata": {
        "id": "NCC11Xqp_ynt"
      }
    },
    {
      "cell_type": "markdown",
      "source": [
        "### Implementation (Coding)\n",
        "###### When functions use a common pool of data, you should **define** or **initialize** the data before functions are defined.  Thus, the variables for the data are initialized just below the **import** statement."
      ],
      "metadata": {
        "id": "bxipK46JAOuC"
      }
    },
    {
      "cell_type": "code",
      "source": [
        "import random"
      ],
      "metadata": {
        "id": "ySMy47v4_GMP"
      },
      "execution_count": null,
      "outputs": []
    },
    {
      "cell_type": "code",
      "source": [
        "# Vocabulary: Words in different parts of speech\n",
        "articles      = (\"A\", \"THE\")\n",
        "nouns         = (\"BOY\", \"GIRL\", \"BAT\", \"BALL\")\n",
        "verbs         = (\"HIT\", \"SAW\", \"LIKED\")\n",
        "prepositions  = (\"WITH\", \"BY\")\n",
        "#### prepositions_alt = (\"BENEATH\", \"BESIDE\", \"BETWEEN\", \"FROM\", \"IN FRONT OF\", \"INSIDE\", \"NEAR\", \"OFF\", \"OUT OF\", \"THROUGH\", \"TOWARD\", \"UNDER\", \"WITHIN\")\n",
        "adjectives    = (\"RED\", \"LITTLE\")\n",
        "#### adjectives_alt = (\"BLUE\", \"LARGE\")\n",
        "conjunctions  = (\"AND\", \"BUT\")"
      ],
      "metadata": {
        "id": "cgUEKgrGA4UP"
      },
      "execution_count": null,
      "outputs": []
    },
    {
      "cell_type": "code",
      "source": [
        "### Sentence initial set-up \n",
        "#### \"\"\"Build and returns a sentence.\"\"\"\n",
        "#### def sentence():\n",
        "####   return nounPhrase() + \" \" + verbPhrase()"
      ],
      "metadata": {
        "id": "C5I0FsW_5kBi"
      },
      "execution_count": null,
      "outputs": []
    },
    {
      "cell_type": "code",
      "source": [
        "### The Sentence\n",
        "def sentence():\n",
        "  #### \"\"\"Builds and returns a sentence.\n",
        "  ####    This sentence allows optional independent clauses\n",
        "  ####    connected by conjunctions.\"\"\"\n",
        "  first = independentClause()\n",
        "  if random.randint(1, 5) == 1:\n",
        "    return first + \" \" + random.choice(conjunctions) + \\\n",
        "           \" \" + independentClause()\n",
        "  else:\n",
        "    return first"
      ],
      "metadata": {
        "id": "W8Y0nRngJal5"
      },
      "execution_count": null,
      "outputs": []
    },
    {
      "cell_type": "code",
      "source": [
        "### The Independent Clause\n",
        "### \"\"\"\"Builds and returns an independent clause.\"\"\"\n",
        "def independentClause():\n",
        "  return nounPhrase() +  \" \" + verbPhrase()"
      ],
      "metadata": {
        "id": "5Kfvd7-ra-Hi"
      },
      "execution_count": null,
      "outputs": []
    },
    {
      "cell_type": "code",
      "execution_count": null,
      "metadata": {
        "id": "iNqrE7nA40gV"
      },
      "outputs": [],
      "source": [
        "### The Noun Phrase\n",
        "### \"\"\"Builds and returns a noun phrase.\n",
        "###   This sentence includes an optional adjective.\"\"\"\"\n",
        "def nounPhrase():\n",
        "  if random.randint(1, 2) == 1:\n",
        "    adj = random.choice(adjectives) + \" \"\n",
        "  else:\n",
        "    adj = \"\"\n",
        "  return random.choice(articles) +  \" \" + adj + random.choice(nouns)"
      ]
    },
    {
      "cell_type": "code",
      "source": [
        "### The Verb Phrase\n",
        "### \"\"\"Builds and returns a verb phrase.\n",
        "### The prepositional phrase is now optional.\"\"\"\n",
        "def verbPhrase():\n",
        "  if random.randint(1, 3) == 1:\n",
        "    prepPhrase = \" \" + prepositionalPhrase()\n",
        "  else:\n",
        "    prepPhrase = \"\"\n",
        "  return random.choice(verbs) + \" \" + nounPhrase() + prepPhrase"
      ],
      "metadata": {
        "id": "4HwdWGY8CewH"
      },
      "execution_count": null,
      "outputs": []
    },
    {
      "cell_type": "code",
      "source": [
        "### A Prepositional Phrase\n",
        "### \"\"\"Builds and returns a prepositional phrase.\"\"\"\n",
        "def prepositionalPhrase():\n",
        "  return random.choice(prepositions) +  \" \" + nounPhrase()"
      ],
      "metadata": {
        "id": "8BD7_TB2E5LL"
      },
      "execution_count": null,
      "outputs": []
    },
    {
      "cell_type": "code",
      "source": [
        "### The Main Function drives the count-controlled loop:\n",
        "### \"\"\"Allows the user to input the number of sentences to generate\"\"\"\n",
        "def main():\n",
        "  number = int(input(\"Enter the number of sentences you'd like and hit return/enter on keyboard:  \"))\n",
        "  for count in range(number):\n",
        "    print(sentence())"
      ],
      "metadata": {
        "id": "miKLOvb945wm"
      },
      "execution_count": null,
      "outputs": []
    },
    {
      "cell_type": "code",
      "source": [
        "## The entry point for program execution\n",
        "if __name__ == \"__main__\":\n",
        "  main()"
      ],
      "metadata": {
        "colab": {
          "base_uri": "https://localhost:8080/"
        },
        "id": "CR9KnTTSAzhA",
        "outputId": "00767732-58a6-4404-85e9-35255fd1265b"
      },
      "execution_count": null,
      "outputs": [
        {
          "output_type": "stream",
          "name": "stdout",
          "text": [
            "Enter the number of sentences you'd like and hit return/enter on keyboard:  3\n",
            "THE LITTLE BOY SAW THE LITTLE BALL BY A RED BOY\n",
            "THE BALL HIT A LITTLE BOY\n",
            "THE BOY HIT A BOY WITH THE BALL\n"
          ]
        }
      ]
    }
  ]
}