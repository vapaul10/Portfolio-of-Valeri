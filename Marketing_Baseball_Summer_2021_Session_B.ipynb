{
  "nbformat": 4,
  "nbformat_minor": 0,
  "metadata": {
    "colab": {
      "provenance": [],
      "include_colab_link": true
    },
    "kernelspec": {
      "name": "python3",
      "display_name": "Python 3"
    },
    "language_info": {
      "name": "python"
    }
  },
  "cells": [
    {
      "cell_type": "markdown",
      "metadata": {
        "id": "view-in-github",
        "colab_type": "text"
      },
      "source": [
        "<a href=\"https://colab.research.google.com/github/vapaul10/Portfolio-of-Valeri/blob/main/Marketing_Baseball_Summer_2021_Session_B.ipynb\" target=\"_parent\"><img src=\"https://colab.research.google.com/assets/colab-badge.svg\" alt=\"Open In Colab\"/></a>"
      ]
    },
    {
      "cell_type": "markdown",
      "metadata": {
        "id": "pP6VOPW3VBH6"
      },
      "source": [
        "#Instructor: Alfonso Berumen\n",
        "#Pepperdine University\n",
        "#ISTM 627 - SUMMER 2021 - SESSION B"
      ]
    },
    {
      "cell_type": "markdown",
      "metadata": {
        "id": "Fb6zbLNoWBLY"
      },
      "source": [
        "#**Setting up the initial notebook**\n",
        "####Import Python packages"
      ]
    },
    {
      "cell_type": "code",
      "metadata": {
        "id": "dhzmSq_OQhAV"
      },
      "source": [
        "#RERUN THIS IF YOUR CONNECTION GETS RESET\n",
        "\n",
        "#import pandas:\n",
        "import pandas as pd\n",
        "#import numpy:\n",
        "import numpy as np\n",
        "#matplotlib\n",
        "import matplotlib.pyplot as plt\n",
        "%matplotlib inline\n",
        "\n",
        "#several others\n",
        "import scipy\n",
        "import sklearn\n",
        "import os as os\n",
        "\n",
        "#let's test out the relationships\n",
        "import seaborn as sn\n",
        "import matplotlib.pyplot as plt\n",
        "\n",
        "#regression\n",
        "from statsmodels.api import OLS\n",
        "import statsmodels.formula.api as smf\n",
        "\n",
        "#load some libraries\n",
        "from sklearn.preprocessing import scale\n",
        "from sklearn.decomposition import PCA\n",
        "from sklearn.cluster import KMeans\n",
        "\n",
        "from scipy.cluster import hierarchy\n",
        "\n",
        "#take the exponential\n",
        "import math\n",
        "\n",
        "#import regression libraries\n",
        "from sklearn.model_selection import train_test_split \n",
        "from sklearn.linear_model import LogisticRegression\n",
        "from sklearn.metrics import classification_report, confusion_matrix\n",
        "\n",
        "#import os as os\n",
        "#import statsmodels.api as sm"
      ],
      "execution_count": 9,
      "outputs": []
    },
    {
      "cell_type": "code",
      "source": [
        "#Install python datatable which is the same as data.table() in R\n",
        "!pip install datatable\n",
        "import datatable as dt\n",
        "\n",
        "from datatable import (dt, f, by, ifelse, update, sort,\n",
        "                       count, min, max, mean, sum, rowsum)"
      ],
      "metadata": {
        "colab": {
          "base_uri": "https://localhost:8080/",
          "height": 126
        },
        "id": "QCA8MzaJMOat",
        "outputId": "a328a372-0ac6-4978-c710-486245eddbaf"
      },
      "execution_count": 15,
      "outputs": [
        {
          "output_type": "stream",
          "name": "stdout",
          "text": [
            "Looking in indexes: https://pypi.org/simple, https://us-python.pkg.dev/colab-wheels/public/simple/\n",
            "Collecting datatable\n",
            "  Downloading datatable-1.0.0-cp38-cp38-manylinux_2_12_x86_64.whl (96.6 MB)\n",
            "\u001b[2K     \u001b[90m━━━━━━━━━━━━━━━━━━━━━━━━━━━━━━━━━━━━━━━━\u001b[0m \u001b[32m96.6/96.6 MB\u001b[0m \u001b[31m10.1 MB/s\u001b[0m eta \u001b[36m0:00:00\u001b[0m\n",
            "\u001b[?25hInstalling collected packages: datatable\n",
            "Successfully installed datatable-1.0.0\n"
          ]
        },
        {
          "output_type": "display_data",
          "data": {
            "text/plain": [
              "<IPython.core.display.HTML object>"
            ],
            "text/html": [
              "<style type='text/css'>\n",
              ".datatable table.frame { margin-bottom: 0; }\n",
              ".datatable table.frame thead { border-bottom: none; }\n",
              ".datatable table.frame tr.coltypes td {  color: #FFFFFF;  line-height: 6px;  padding: 0 0.5em;}\n",
              ".datatable .bool    { background: #DDDD99; }\n",
              ".datatable .object  { background: #565656; }\n",
              ".datatable .int     { background: #5D9E5D; }\n",
              ".datatable .float   { background: #4040CC; }\n",
              ".datatable .str     { background: #CC4040; }\n",
              ".datatable .time    { background: #40CC40; }\n",
              ".datatable .row_index {  background: var(--jp-border-color3);  border-right: 1px solid var(--jp-border-color0);  color: var(--jp-ui-font-color3);  font-size: 9px;}\n",
              ".datatable .frame tbody td { text-align: left; }\n",
              ".datatable .frame tr.coltypes .row_index {  background: var(--jp-border-color0);}\n",
              ".datatable th:nth-child(2) { padding-left: 12px; }\n",
              ".datatable .hellipsis {  color: var(--jp-cell-editor-border-color);}\n",
              ".datatable .vellipsis {  background: var(--jp-layout-color0);  color: var(--jp-cell-editor-border-color);}\n",
              ".datatable .na {  color: var(--jp-cell-editor-border-color);  font-size: 80%;}\n",
              ".datatable .sp {  opacity: 0.25;}\n",
              ".datatable .footer { font-size: 9px; }\n",
              ".datatable .frame_dimensions {  background: var(--jp-border-color3);  border-top: 1px solid var(--jp-border-color0);  color: var(--jp-ui-font-color3);  display: inline-block;  opacity: 0.6;  padding: 1px 10px 1px 5px;}\n",
              "</style>\n"
            ]
          },
          "metadata": {}
        }
      ]
    },
    {
      "cell_type": "code",
      "source": [
        "#Python h2o\n",
        "\n",
        "#h2o is the Machine Learning package we will be using.\n",
        "# It has both an R implementation and a Python implemenation. \n",
        "#The h2o.init() is commented out below because we are \n",
        "#not going to use it for this HW.  You can only have on instance (either Python or R)\n",
        "#of h2o running in any one session. \n",
        "\n",
        "! pip install h2o\n",
        "\n",
        "import h2o\n",
        "\n",
        "h2o.init()\n",
        "#h2o.shutdown()"
      ],
      "metadata": {
        "colab": {
          "base_uri": "https://localhost:8080/",
          "height": 889
        },
        "id": "DfWotcfLJ4Y8",
        "outputId": "1dc73d4a-7be0-4af2-fe3c-0d80a7532572"
      },
      "execution_count": 8,
      "outputs": [
        {
          "output_type": "stream",
          "name": "stdout",
          "text": [
            "Looking in indexes: https://pypi.org/simple, https://us-python.pkg.dev/colab-wheels/public/simple/\n",
            "Collecting h2o\n",
            "  Downloading h2o-3.38.0.4.tar.gz (177.5 MB)\n",
            "\u001b[2K     \u001b[90m━━━━━━━━━━━━━━━━━━━━━━━━━━━━━━━━━━━━━━━\u001b[0m \u001b[32m177.5/177.5 MB\u001b[0m \u001b[31m5.9 MB/s\u001b[0m eta \u001b[36m0:00:00\u001b[0m\n",
            "\u001b[?25h  Preparing metadata (setup.py) ... \u001b[?25l\u001b[?25hdone\n",
            "Requirement already satisfied: requests in /usr/local/lib/python3.8/dist-packages (from h2o) (2.25.1)\n",
            "Requirement already satisfied: tabulate in /usr/local/lib/python3.8/dist-packages (from h2o) (0.8.10)\n",
            "Requirement already satisfied: future in /usr/local/lib/python3.8/dist-packages (from h2o) (0.16.0)\n",
            "Requirement already satisfied: chardet<5,>=3.0.2 in /usr/local/lib/python3.8/dist-packages (from requests->h2o) (4.0.0)\n",
            "Requirement already satisfied: certifi>=2017.4.17 in /usr/local/lib/python3.8/dist-packages (from requests->h2o) (2022.12.7)\n",
            "Requirement already satisfied: urllib3<1.27,>=1.21.1 in /usr/local/lib/python3.8/dist-packages (from requests->h2o) (1.24.3)\n",
            "Requirement already satisfied: idna<3,>=2.5 in /usr/local/lib/python3.8/dist-packages (from requests->h2o) (2.10)\n",
            "Building wheels for collected packages: h2o\n",
            "  Building wheel for h2o (setup.py) ... \u001b[?25l\u001b[?25hdone\n",
            "  Created wheel for h2o: filename=h2o-3.38.0.4-py2.py3-none-any.whl size=177628739 sha256=35b4eb46972b175e11a666eae75bd1d50dfe2753f4f09775a6d9e445575a2b3f\n",
            "  Stored in directory: /root/.cache/pip/wheels/6b/1d/65/39927b5984bde22f615b4c6e9a8ee98ea4abf1acb5926623ff\n",
            "Successfully built h2o\n",
            "Installing collected packages: h2o\n",
            "Successfully installed h2o-3.38.0.4\n",
            "Checking whether there is an H2O instance running at http://localhost:54321 ..... not found.\n",
            "Attempting to start a local H2O server...\n",
            "  Java Version: openjdk version \"11.0.17\" 2022-10-18; OpenJDK Runtime Environment (build 11.0.17+8-post-Ubuntu-1ubuntu220.04); OpenJDK 64-Bit Server VM (build 11.0.17+8-post-Ubuntu-1ubuntu220.04, mixed mode, sharing)\n",
            "  Starting server from /usr/local/lib/python3.8/dist-packages/h2o/backend/bin/h2o.jar\n",
            "  Ice root: /tmp/tmpgnnnk_or\n",
            "  JVM stdout: /tmp/tmpgnnnk_or/h2o_unknownUser_started_from_python.out\n",
            "  JVM stderr: /tmp/tmpgnnnk_or/h2o_unknownUser_started_from_python.err\n",
            "  Server is running at http://127.0.0.1:54321\n",
            "Connecting to H2O server at http://127.0.0.1:54321 ... successful.\n"
          ]
        },
        {
          "output_type": "display_data",
          "data": {
            "text/plain": [
              "--------------------------  ----------------------------------\n",
              "H2O_cluster_uptime:         03 secs\n",
              "H2O_cluster_timezone:       Etc/UTC\n",
              "H2O_data_parsing_timezone:  UTC\n",
              "H2O_cluster_version:        3.38.0.4\n",
              "H2O_cluster_version_age:    15 days\n",
              "H2O_cluster_name:           H2O_from_python_unknownUser_kfec4x\n",
              "H2O_cluster_total_nodes:    1\n",
              "H2O_cluster_free_memory:    3.172 Gb\n",
              "H2O_cluster_total_cores:    2\n",
              "H2O_cluster_allowed_cores:  2\n",
              "H2O_cluster_status:         locked, healthy\n",
              "H2O_connection_url:         http://127.0.0.1:54321\n",
              "H2O_connection_proxy:       {\"http\": null, \"https\": null}\n",
              "H2O_internal_security:      False\n",
              "Python_version:             3.8.10 final\n",
              "--------------------------  ----------------------------------"
            ],
            "text/html": [
              "\n",
              "<style>\n",
              "\n",
              "#h2o-table-1.h2o-container {\n",
              "  overflow-x: auto;\n",
              "}\n",
              "#h2o-table-1 .h2o-table {\n",
              "  /* width: 100%; */\n",
              "  margin-top: 1em;\n",
              "  margin-bottom: 1em;\n",
              "}\n",
              "#h2o-table-1 .h2o-table caption {\n",
              "  white-space: nowrap;\n",
              "  caption-side: top;\n",
              "  text-align: left;\n",
              "  /* margin-left: 1em; */\n",
              "  margin: 0;\n",
              "  font-size: larger;\n",
              "}\n",
              "#h2o-table-1 .h2o-table thead {\n",
              "  white-space: nowrap; \n",
              "  position: sticky;\n",
              "  top: 0;\n",
              "  box-shadow: 0 -1px inset;\n",
              "}\n",
              "#h2o-table-1 .h2o-table tbody {\n",
              "  overflow: auto;\n",
              "}\n",
              "#h2o-table-1 .h2o-table th,\n",
              "#h2o-table-1 .h2o-table td {\n",
              "  text-align: right;\n",
              "  /* border: 1px solid; */\n",
              "}\n",
              "#h2o-table-1 .h2o-table tr:nth-child(even) {\n",
              "  /* background: #F5F5F5 */\n",
              "}\n",
              "\n",
              "</style>      \n",
              "<div id=\"h2o-table-1\" class=\"h2o-container\">\n",
              "  <table class=\"h2o-table\">\n",
              "    <caption></caption>\n",
              "    <thead></thead>\n",
              "    <tbody><tr><td>H2O_cluster_uptime:</td>\n",
              "<td>03 secs</td></tr>\n",
              "<tr><td>H2O_cluster_timezone:</td>\n",
              "<td>Etc/UTC</td></tr>\n",
              "<tr><td>H2O_data_parsing_timezone:</td>\n",
              "<td>UTC</td></tr>\n",
              "<tr><td>H2O_cluster_version:</td>\n",
              "<td>3.38.0.4</td></tr>\n",
              "<tr><td>H2O_cluster_version_age:</td>\n",
              "<td>15 days </td></tr>\n",
              "<tr><td>H2O_cluster_name:</td>\n",
              "<td>H2O_from_python_unknownUser_kfec4x</td></tr>\n",
              "<tr><td>H2O_cluster_total_nodes:</td>\n",
              "<td>1</td></tr>\n",
              "<tr><td>H2O_cluster_free_memory:</td>\n",
              "<td>3.172 Gb</td></tr>\n",
              "<tr><td>H2O_cluster_total_cores:</td>\n",
              "<td>2</td></tr>\n",
              "<tr><td>H2O_cluster_allowed_cores:</td>\n",
              "<td>2</td></tr>\n",
              "<tr><td>H2O_cluster_status:</td>\n",
              "<td>locked, healthy</td></tr>\n",
              "<tr><td>H2O_connection_url:</td>\n",
              "<td>http://127.0.0.1:54321</td></tr>\n",
              "<tr><td>H2O_connection_proxy:</td>\n",
              "<td>{\"http\": null, \"https\": null}</td></tr>\n",
              "<tr><td>H2O_internal_security:</td>\n",
              "<td>False</td></tr>\n",
              "<tr><td>Python_version:</td>\n",
              "<td>3.8.10 final</td></tr></tbody>\n",
              "  </table>\n",
              "</div>\n"
            ]
          },
          "metadata": {}
        }
      ]
    },
    {
      "cell_type": "code",
      "source": [
        "#Data Load in Python\n",
        "## \n",
        "addata = dt.fread(\"https://raw.githubusercontent.com/vapaul10/Marketing_Informatics/main/Advertising.csv\")\n",
        "### bank_p = dt.fread(\"https://raw.githubusercontent.com/jjghockey/DESC624/main/bank-full.csv\")\n",
        "### bank_p = dt.fread(\"https://raw.githubusercontent.com/vapaul10/DESC624PredictiveAnalytics/Datasets/bank-full.csv\")  #incase prof jjg link doesn't work.  This a backup link to same data on my github.\n",
        "print(addata.head)\n",
        "print(addata.shape)"
      ],
      "metadata": {
        "colab": {
          "base_uri": "https://localhost:8080/"
        },
        "id": "ddUexFJnJ8xd",
        "outputId": "8761b3fd-3c17-4038-9785-4802af99f042"
      },
      "execution_count": 16,
      "outputs": [
        {
          "output_type": "stream",
          "name": "stdout",
          "text": [
            "<built-in method head of datatable.Frame object at 0x7f70c8f77db0>\n",
            "(200, 5)\n"
          ]
        }
      ]
    },
    {
      "cell_type": "markdown",
      "metadata": {
        "id": "mQcBITNZWQWQ"
      },
      "source": [
        "##Week 1\n",
        "\n",
        "##Regression"
      ]
    },
    {
      "cell_type": "code",
      "metadata": {
        "id": "PsGA0LqRWZRZ",
        "colab": {
          "base_uri": "https://localhost:8080/",
          "height": 130
        },
        "outputId": "634b69b7-bf31-4bf8-e0a8-ab097b4e9f54"
      },
      "source": [
        "#Upload files via google colab (not a typical import process for Python)\n",
        "from google.colab import files\n",
        "files.upload()"
      ],
      "execution_count": 17,
      "outputs": [
        {
          "output_type": "display_data",
          "data": {
            "text/plain": [
              "<IPython.core.display.HTML object>"
            ],
            "text/html": [
              "\n",
              "     <input type=\"file\" id=\"files-95ea09c5-440e-45ad-b467-5c8a83a4a916\" name=\"files[]\" multiple disabled\n",
              "        style=\"border:none\" />\n",
              "     <output id=\"result-95ea09c5-440e-45ad-b467-5c8a83a4a916\">\n",
              "      Upload widget is only available when the cell has been executed in the\n",
              "      current browser session. Please rerun this cell to enable.\n",
              "      </output>\n",
              "      <script>// Copyright 2017 Google LLC\n",
              "//\n",
              "// Licensed under the Apache License, Version 2.0 (the \"License\");\n",
              "// you may not use this file except in compliance with the License.\n",
              "// You may obtain a copy of the License at\n",
              "//\n",
              "//      http://www.apache.org/licenses/LICENSE-2.0\n",
              "//\n",
              "// Unless required by applicable law or agreed to in writing, software\n",
              "// distributed under the License is distributed on an \"AS IS\" BASIS,\n",
              "// WITHOUT WARRANTIES OR CONDITIONS OF ANY KIND, either express or implied.\n",
              "// See the License for the specific language governing permissions and\n",
              "// limitations under the License.\n",
              "\n",
              "/**\n",
              " * @fileoverview Helpers for google.colab Python module.\n",
              " */\n",
              "(function(scope) {\n",
              "function span(text, styleAttributes = {}) {\n",
              "  const element = document.createElement('span');\n",
              "  element.textContent = text;\n",
              "  for (const key of Object.keys(styleAttributes)) {\n",
              "    element.style[key] = styleAttributes[key];\n",
              "  }\n",
              "  return element;\n",
              "}\n",
              "\n",
              "// Max number of bytes which will be uploaded at a time.\n",
              "const MAX_PAYLOAD_SIZE = 100 * 1024;\n",
              "\n",
              "function _uploadFiles(inputId, outputId) {\n",
              "  const steps = uploadFilesStep(inputId, outputId);\n",
              "  const outputElement = document.getElementById(outputId);\n",
              "  // Cache steps on the outputElement to make it available for the next call\n",
              "  // to uploadFilesContinue from Python.\n",
              "  outputElement.steps = steps;\n",
              "\n",
              "  return _uploadFilesContinue(outputId);\n",
              "}\n",
              "\n",
              "// This is roughly an async generator (not supported in the browser yet),\n",
              "// where there are multiple asynchronous steps and the Python side is going\n",
              "// to poll for completion of each step.\n",
              "// This uses a Promise to block the python side on completion of each step,\n",
              "// then passes the result of the previous step as the input to the next step.\n",
              "function _uploadFilesContinue(outputId) {\n",
              "  const outputElement = document.getElementById(outputId);\n",
              "  const steps = outputElement.steps;\n",
              "\n",
              "  const next = steps.next(outputElement.lastPromiseValue);\n",
              "  return Promise.resolve(next.value.promise).then((value) => {\n",
              "    // Cache the last promise value to make it available to the next\n",
              "    // step of the generator.\n",
              "    outputElement.lastPromiseValue = value;\n",
              "    return next.value.response;\n",
              "  });\n",
              "}\n",
              "\n",
              "/**\n",
              " * Generator function which is called between each async step of the upload\n",
              " * process.\n",
              " * @param {string} inputId Element ID of the input file picker element.\n",
              " * @param {string} outputId Element ID of the output display.\n",
              " * @return {!Iterable<!Object>} Iterable of next steps.\n",
              " */\n",
              "function* uploadFilesStep(inputId, outputId) {\n",
              "  const inputElement = document.getElementById(inputId);\n",
              "  inputElement.disabled = false;\n",
              "\n",
              "  const outputElement = document.getElementById(outputId);\n",
              "  outputElement.innerHTML = '';\n",
              "\n",
              "  const pickedPromise = new Promise((resolve) => {\n",
              "    inputElement.addEventListener('change', (e) => {\n",
              "      resolve(e.target.files);\n",
              "    });\n",
              "  });\n",
              "\n",
              "  const cancel = document.createElement('button');\n",
              "  inputElement.parentElement.appendChild(cancel);\n",
              "  cancel.textContent = 'Cancel upload';\n",
              "  const cancelPromise = new Promise((resolve) => {\n",
              "    cancel.onclick = () => {\n",
              "      resolve(null);\n",
              "    };\n",
              "  });\n",
              "\n",
              "  // Wait for the user to pick the files.\n",
              "  const files = yield {\n",
              "    promise: Promise.race([pickedPromise, cancelPromise]),\n",
              "    response: {\n",
              "      action: 'starting',\n",
              "    }\n",
              "  };\n",
              "\n",
              "  cancel.remove();\n",
              "\n",
              "  // Disable the input element since further picks are not allowed.\n",
              "  inputElement.disabled = true;\n",
              "\n",
              "  if (!files) {\n",
              "    return {\n",
              "      response: {\n",
              "        action: 'complete',\n",
              "      }\n",
              "    };\n",
              "  }\n",
              "\n",
              "  for (const file of files) {\n",
              "    const li = document.createElement('li');\n",
              "    li.append(span(file.name, {fontWeight: 'bold'}));\n",
              "    li.append(span(\n",
              "        `(${file.type || 'n/a'}) - ${file.size} bytes, ` +\n",
              "        `last modified: ${\n",
              "            file.lastModifiedDate ? file.lastModifiedDate.toLocaleDateString() :\n",
              "                                    'n/a'} - `));\n",
              "    const percent = span('0% done');\n",
              "    li.appendChild(percent);\n",
              "\n",
              "    outputElement.appendChild(li);\n",
              "\n",
              "    const fileDataPromise = new Promise((resolve) => {\n",
              "      const reader = new FileReader();\n",
              "      reader.onload = (e) => {\n",
              "        resolve(e.target.result);\n",
              "      };\n",
              "      reader.readAsArrayBuffer(file);\n",
              "    });\n",
              "    // Wait for the data to be ready.\n",
              "    let fileData = yield {\n",
              "      promise: fileDataPromise,\n",
              "      response: {\n",
              "        action: 'continue',\n",
              "      }\n",
              "    };\n",
              "\n",
              "    // Use a chunked sending to avoid message size limits. See b/62115660.\n",
              "    let position = 0;\n",
              "    do {\n",
              "      const length = Math.min(fileData.byteLength - position, MAX_PAYLOAD_SIZE);\n",
              "      const chunk = new Uint8Array(fileData, position, length);\n",
              "      position += length;\n",
              "\n",
              "      const base64 = btoa(String.fromCharCode.apply(null, chunk));\n",
              "      yield {\n",
              "        response: {\n",
              "          action: 'append',\n",
              "          file: file.name,\n",
              "          data: base64,\n",
              "        },\n",
              "      };\n",
              "\n",
              "      let percentDone = fileData.byteLength === 0 ?\n",
              "          100 :\n",
              "          Math.round((position / fileData.byteLength) * 100);\n",
              "      percent.textContent = `${percentDone}% done`;\n",
              "\n",
              "    } while (position < fileData.byteLength);\n",
              "  }\n",
              "\n",
              "  // All done.\n",
              "  yield {\n",
              "    response: {\n",
              "      action: 'complete',\n",
              "    }\n",
              "  };\n",
              "}\n",
              "\n",
              "scope.google = scope.google || {};\n",
              "scope.google.colab = scope.google.colab || {};\n",
              "scope.google.colab._files = {\n",
              "  _uploadFiles,\n",
              "  _uploadFilesContinue,\n",
              "};\n",
              "})(self);\n",
              "</script> "
            ]
          },
          "metadata": {}
        },
        {
          "output_type": "stream",
          "name": "stdout",
          "text": [
            "Saving Advertising.csv to Advertising (1).csv\n"
          ]
        },
        {
          "output_type": "execute_result",
          "data": {
            "text/plain": [
              "{'Advertising.csv': b'ID,TV,radio,newspaper,sales\\r\\n1,230.1,37.8,69.2,22.1\\r\\n2,44.5,39.3,45.1,10.4\\r\\n3,17.2,45.9,69.3,9.3\\r\\n4,151.5,41.3,58.5,18.5\\r\\n5,180.8,10.8,58.4,12.9\\r\\n6,8.7,48.9,75,7.2\\r\\n7,57.5,32.8,23.5,11.8\\r\\n8,120.2,19.6,11.6,13.2\\r\\n9,8.6,2.1,1,4.8\\r\\n10,199.8,2.6,21.2,10.6\\r\\n11,66.1,5.8,24.2,8.6\\r\\n12,214.7,24,4,17.4\\r\\n13,23.8,35.1,65.9,9.2\\r\\n14,97.5,7.6,7.2,9.7\\r\\n15,204.1,32.9,46,19\\r\\n16,195.4,47.7,52.9,22.4\\r\\n17,67.8,36.6,114,12.5\\r\\n18,281.4,39.6,55.8,24.4\\r\\n19,69.2,20.5,18.3,11.3\\r\\n20,147.3,23.9,19.1,14.6\\r\\n21,218.4,27.7,53.4,18\\r\\n22,237.4,5.1,23.5,12.5\\r\\n23,13.2,15.9,49.6,5.6\\r\\n24,228.3,16.9,26.2,15.5\\r\\n25,62.3,12.6,18.3,9.7\\r\\n26,262.9,3.5,19.5,12\\r\\n27,142.9,29.3,12.6,15\\r\\n28,240.1,16.7,22.9,15.9\\r\\n29,248.8,27.1,22.9,18.9\\r\\n30,70.6,16,40.8,10.5\\r\\n31,292.9,28.3,43.2,21.4\\r\\n32,112.9,17.4,38.6,11.9\\r\\n33,97.2,1.5,30,9.6\\r\\n34,265.6,20,0.3,17.4\\r\\n35,95.7,1.4,7.4,9.5\\r\\n36,290.7,4.1,8.5,12.8\\r\\n37,266.9,43.8,5,25.4\\r\\n38,74.7,49.4,45.7,14.7\\r\\n39,43.1,26.7,35.1,10.1\\r\\n40,228,37.7,32,21.5\\r\\n41,202.5,22.3,31.6,16.6\\r\\n42,177,33.4,38.7,17.1\\r\\n43,293.6,27.7,1.8,20.7\\r\\n44,206.9,8.4,26.4,12.9\\r\\n45,25.1,25.7,43.3,8.5\\r\\n46,175.1,22.5,31.5,14.9\\r\\n47,89.7,9.9,35.7,10.6\\r\\n48,239.9,41.5,18.5,23.2\\r\\n49,227.2,15.8,49.9,14.8\\r\\n50,66.9,11.7,36.8,9.7\\r\\n51,199.8,3.1,34.6,11.4\\r\\n52,100.4,9.6,3.6,10.7\\r\\n53,216.4,41.7,39.6,22.6\\r\\n54,182.6,46.2,58.7,21.2\\r\\n55,262.7,28.8,15.9,20.2\\r\\n56,198.9,49.4,60,23.7\\r\\n57,7.3,28.1,41.4,5.5\\r\\n58,136.2,19.2,16.6,13.2\\r\\n59,210.8,49.6,37.7,23.8\\r\\n60,210.7,29.5,9.3,18.4\\r\\n61,53.5,2,21.4,8.1\\r\\n62,261.3,42.7,54.7,24.2\\r\\n63,239.3,15.5,27.3,15.7\\r\\n64,102.7,29.6,8.4,14\\r\\n65,131.1,42.8,28.9,18\\r\\n66,69,9.3,0.9,9.3\\r\\n67,31.5,24.6,2.2,9.5\\r\\n68,139.3,14.5,10.2,13.4\\r\\n69,237.4,27.5,11,18.9\\r\\n70,216.8,43.9,27.2,22.3\\r\\n71,199.1,30.6,38.7,18.3\\r\\n72,109.8,14.3,31.7,12.4\\r\\n73,26.8,33,19.3,8.8\\r\\n74,129.4,5.7,31.3,11\\r\\n75,213.4,24.6,13.1,17\\r\\n76,16.9,43.7,89.4,8.7\\r\\n77,27.5,1.6,20.7,6.9\\r\\n78,120.5,28.5,14.2,14.2\\r\\n79,5.4,29.9,9.4,5.3\\r\\n80,116,7.7,23.1,11\\r\\n81,76.4,26.7,22.3,11.8\\r\\n82,239.8,4.1,36.9,12.3\\r\\n83,75.3,20.3,32.5,11.3\\r\\n84,68.4,44.5,35.6,13.6\\r\\n85,213.5,43,33.8,21.7\\r\\n86,193.2,18.4,65.7,15.2\\r\\n87,76.3,27.5,16,12\\r\\n88,110.7,40.6,63.2,16\\r\\n89,88.3,25.5,73.4,12.9\\r\\n90,109.8,47.8,51.4,16.7\\r\\n91,134.3,4.9,9.3,11.2\\r\\n92,28.6,1.5,33,7.3\\r\\n93,217.7,33.5,59,19.4\\r\\n94,250.9,36.5,72.3,22.2\\r\\n95,107.4,14,10.9,11.5\\r\\n96,163.3,31.6,52.9,16.9\\r\\n97,197.6,3.5,5.9,11.7\\r\\n98,184.9,21,22,15.5\\r\\n99,289.7,42.3,51.2,25.4\\r\\n100,135.2,41.7,45.9,17.2\\r\\n101,222.4,4.3,49.8,11.7\\r\\n102,296.4,36.3,100.9,23.8\\r\\n103,280.2,10.1,21.4,14.8\\r\\n104,187.9,17.2,17.9,14.7\\r\\n105,238.2,34.3,5.3,20.7\\r\\n106,137.9,46.4,59,19.2\\r\\n107,25,11,29.7,7.2\\r\\n108,90.4,0.3,23.2,8.7\\r\\n109,13.1,0.4,25.6,5.3\\r\\n110,255.4,26.9,5.5,19.8\\r\\n111,225.8,8.2,56.5,13.4\\r\\n112,241.7,38,23.2,21.8\\r\\n113,175.7,15.4,2.4,14.1\\r\\n114,209.6,20.6,10.7,15.9\\r\\n115,78.2,46.8,34.5,14.6\\r\\n116,75.1,35,52.7,12.6\\r\\n117,139.2,14.3,25.6,12.2\\r\\n118,76.4,0.8,14.8,9.4\\r\\n119,125.7,36.9,79.2,15.9\\r\\n120,19.4,16,22.3,6.6\\r\\n121,141.3,26.8,46.2,15.5\\r\\n122,18.8,21.7,50.4,7\\r\\n123,224,2.4,15.6,11.6\\r\\n124,123.1,34.6,12.4,15.2\\r\\n125,229.5,32.3,74.2,19.7\\r\\n126,87.2,11.8,25.9,10.6\\r\\n127,7.8,38.9,50.6,6.6\\r\\n128,80.2,0,9.2,8.8\\r\\n129,220.3,49,3.2,24.7\\r\\n130,59.6,12,43.1,9.7\\r\\n131,0.7,39.6,8.7,1.6\\r\\n132,265.2,2.9,43,12.7\\r\\n133,8.4,27.2,2.1,5.7\\r\\n134,219.8,33.5,45.1,19.6\\r\\n135,36.9,38.6,65.6,10.8\\r\\n136,48.3,47,8.5,11.6\\r\\n137,25.6,39,9.3,9.5\\r\\n138,273.7,28.9,59.7,20.8\\r\\n139,43,25.9,20.5,9.6\\r\\n140,184.9,43.9,1.7,20.7\\r\\n141,73.4,17,12.9,10.9\\r\\n142,193.7,35.4,75.6,19.2\\r\\n143,220.5,33.2,37.9,20.1\\r\\n144,104.6,5.7,34.4,10.4\\r\\n145,96.2,14.8,38.9,11.4\\r\\n146,140.3,1.9,9,10.3\\r\\n147,240.1,7.3,8.7,13.2\\r\\n148,243.2,49,44.3,25.4\\r\\n149,38,40.3,11.9,10.9\\r\\n150,44.7,25.8,20.6,10.1\\r\\n151,280.7,13.9,37,16.1\\r\\n152,121,8.4,48.7,11.6\\r\\n153,197.6,23.3,14.2,16.6\\r\\n154,171.3,39.7,37.7,19\\r\\n155,187.8,21.1,9.5,15.6\\r\\n156,4.1,11.6,5.7,3.2\\r\\n157,93.9,43.5,50.5,15.3\\r\\n158,149.8,1.3,24.3,10.1\\r\\n159,11.7,36.9,45.2,7.3\\r\\n160,131.7,18.4,34.6,12.9\\r\\n161,172.5,18.1,30.7,14.4\\r\\n162,85.7,35.8,49.3,13.3\\r\\n163,188.4,18.1,25.6,14.9\\r\\n164,163.5,36.8,7.4,18\\r\\n165,117.2,14.7,5.4,11.9\\r\\n166,234.5,3.4,84.8,11.9\\r\\n167,17.9,37.6,21.6,8\\r\\n168,206.8,5.2,19.4,12.2\\r\\n169,215.4,23.6,57.6,17.1\\r\\n170,284.3,10.6,6.4,15\\r\\n171,50,11.6,18.4,8.4\\r\\n172,164.5,20.9,47.4,14.5\\r\\n173,19.6,20.1,17,7.6\\r\\n174,168.4,7.1,12.8,11.7\\r\\n175,222.4,3.4,13.1,11.5\\r\\n176,276.9,48.9,41.8,27\\r\\n177,248.4,30.2,20.3,20.2\\r\\n178,170.2,7.8,35.2,11.7\\r\\n179,276.7,2.3,23.7,11.8\\r\\n180,165.6,10,17.6,12.6\\r\\n181,156.6,2.6,8.3,10.5\\r\\n182,218.5,5.4,27.4,12.2\\r\\n183,56.2,5.7,29.7,8.7\\r\\n184,287.6,43,71.8,26.2\\r\\n185,253.8,21.3,30,17.6\\r\\n186,205,45.1,19.6,22.6\\r\\n187,139.5,2.1,26.6,10.3\\r\\n188,191.1,28.7,18.2,17.3\\r\\n189,286,13.9,3.7,15.9\\r\\n190,18.7,12.1,23.4,6.7\\r\\n191,39.5,41.1,5.8,10.8\\r\\n192,75.5,10.8,6,9.9\\r\\n193,17.2,4.1,31.6,5.9\\r\\n194,166.8,42,3.6,19.6\\r\\n195,149.7,35.6,6,17.3\\r\\n196,38.2,3.7,13.8,7.6\\r\\n197,94.2,4.9,8.1,9.7\\r\\n198,177,9.3,6.4,12.8\\r\\n199,283.6,42,66.2,25.5\\r\\n200,232.1,8.6,8.7,13.4\\r\\n'}"
            ]
          },
          "metadata": {},
          "execution_count": 17
        }
      ]
    },
    {
      "cell_type": "code",
      "metadata": {
        "id": "mYs_k8B5XPQ5",
        "colab": {
          "base_uri": "https://localhost:8080/",
          "height": 1000
        },
        "outputId": "400f8757-b8cf-4bc9-9f45-a2b1ed6d7390"
      },
      "source": [
        "#set up for linear regression\n",
        "ad_data=pd.read_csv(\"Advertising.csv\",encoding = \"utf-8\") #import the data\n",
        "\n",
        "len(ad_data)#number of records\n",
        "ad_data.info()#fields\n",
        "ad_data.head(30)"
      ],
      "execution_count": 18,
      "outputs": [
        {
          "output_type": "stream",
          "name": "stdout",
          "text": [
            "<class 'pandas.core.frame.DataFrame'>\n",
            "RangeIndex: 200 entries, 0 to 199\n",
            "Data columns (total 5 columns):\n",
            " #   Column     Non-Null Count  Dtype  \n",
            "---  ------     --------------  -----  \n",
            " 0   ID         200 non-null    int64  \n",
            " 1   TV         200 non-null    float64\n",
            " 2   radio      200 non-null    float64\n",
            " 3   newspaper  200 non-null    float64\n",
            " 4   sales      200 non-null    float64\n",
            "dtypes: float64(4), int64(1)\n",
            "memory usage: 7.9 KB\n"
          ]
        },
        {
          "output_type": "execute_result",
          "data": {
            "text/plain": [
              "    ID     TV  radio  newspaper  sales\n",
              "0    1  230.1   37.8       69.2   22.1\n",
              "1    2   44.5   39.3       45.1   10.4\n",
              "2    3   17.2   45.9       69.3    9.3\n",
              "3    4  151.5   41.3       58.5   18.5\n",
              "4    5  180.8   10.8       58.4   12.9\n",
              "5    6    8.7   48.9       75.0    7.2\n",
              "6    7   57.5   32.8       23.5   11.8\n",
              "7    8  120.2   19.6       11.6   13.2\n",
              "8    9    8.6    2.1        1.0    4.8\n",
              "9   10  199.8    2.6       21.2   10.6\n",
              "10  11   66.1    5.8       24.2    8.6\n",
              "11  12  214.7   24.0        4.0   17.4\n",
              "12  13   23.8   35.1       65.9    9.2\n",
              "13  14   97.5    7.6        7.2    9.7\n",
              "14  15  204.1   32.9       46.0   19.0\n",
              "15  16  195.4   47.7       52.9   22.4\n",
              "16  17   67.8   36.6      114.0   12.5\n",
              "17  18  281.4   39.6       55.8   24.4\n",
              "18  19   69.2   20.5       18.3   11.3\n",
              "19  20  147.3   23.9       19.1   14.6\n",
              "20  21  218.4   27.7       53.4   18.0\n",
              "21  22  237.4    5.1       23.5   12.5\n",
              "22  23   13.2   15.9       49.6    5.6\n",
              "23  24  228.3   16.9       26.2   15.5\n",
              "24  25   62.3   12.6       18.3    9.7\n",
              "25  26  262.9    3.5       19.5   12.0\n",
              "26  27  142.9   29.3       12.6   15.0\n",
              "27  28  240.1   16.7       22.9   15.9\n",
              "28  29  248.8   27.1       22.9   18.9\n",
              "29  30   70.6   16.0       40.8   10.5"
            ],
            "text/html": [
              "\n",
              "  <div id=\"df-9f835d67-8c87-45f3-9fb8-f51a5bbeba8a\">\n",
              "    <div class=\"colab-df-container\">\n",
              "      <div>\n",
              "<style scoped>\n",
              "    .dataframe tbody tr th:only-of-type {\n",
              "        vertical-align: middle;\n",
              "    }\n",
              "\n",
              "    .dataframe tbody tr th {\n",
              "        vertical-align: top;\n",
              "    }\n",
              "\n",
              "    .dataframe thead th {\n",
              "        text-align: right;\n",
              "    }\n",
              "</style>\n",
              "<table border=\"1\" class=\"dataframe\">\n",
              "  <thead>\n",
              "    <tr style=\"text-align: right;\">\n",
              "      <th></th>\n",
              "      <th>ID</th>\n",
              "      <th>TV</th>\n",
              "      <th>radio</th>\n",
              "      <th>newspaper</th>\n",
              "      <th>sales</th>\n",
              "    </tr>\n",
              "  </thead>\n",
              "  <tbody>\n",
              "    <tr>\n",
              "      <th>0</th>\n",
              "      <td>1</td>\n",
              "      <td>230.1</td>\n",
              "      <td>37.8</td>\n",
              "      <td>69.2</td>\n",
              "      <td>22.1</td>\n",
              "    </tr>\n",
              "    <tr>\n",
              "      <th>1</th>\n",
              "      <td>2</td>\n",
              "      <td>44.5</td>\n",
              "      <td>39.3</td>\n",
              "      <td>45.1</td>\n",
              "      <td>10.4</td>\n",
              "    </tr>\n",
              "    <tr>\n",
              "      <th>2</th>\n",
              "      <td>3</td>\n",
              "      <td>17.2</td>\n",
              "      <td>45.9</td>\n",
              "      <td>69.3</td>\n",
              "      <td>9.3</td>\n",
              "    </tr>\n",
              "    <tr>\n",
              "      <th>3</th>\n",
              "      <td>4</td>\n",
              "      <td>151.5</td>\n",
              "      <td>41.3</td>\n",
              "      <td>58.5</td>\n",
              "      <td>18.5</td>\n",
              "    </tr>\n",
              "    <tr>\n",
              "      <th>4</th>\n",
              "      <td>5</td>\n",
              "      <td>180.8</td>\n",
              "      <td>10.8</td>\n",
              "      <td>58.4</td>\n",
              "      <td>12.9</td>\n",
              "    </tr>\n",
              "    <tr>\n",
              "      <th>5</th>\n",
              "      <td>6</td>\n",
              "      <td>8.7</td>\n",
              "      <td>48.9</td>\n",
              "      <td>75.0</td>\n",
              "      <td>7.2</td>\n",
              "    </tr>\n",
              "    <tr>\n",
              "      <th>6</th>\n",
              "      <td>7</td>\n",
              "      <td>57.5</td>\n",
              "      <td>32.8</td>\n",
              "      <td>23.5</td>\n",
              "      <td>11.8</td>\n",
              "    </tr>\n",
              "    <tr>\n",
              "      <th>7</th>\n",
              "      <td>8</td>\n",
              "      <td>120.2</td>\n",
              "      <td>19.6</td>\n",
              "      <td>11.6</td>\n",
              "      <td>13.2</td>\n",
              "    </tr>\n",
              "    <tr>\n",
              "      <th>8</th>\n",
              "      <td>9</td>\n",
              "      <td>8.6</td>\n",
              "      <td>2.1</td>\n",
              "      <td>1.0</td>\n",
              "      <td>4.8</td>\n",
              "    </tr>\n",
              "    <tr>\n",
              "      <th>9</th>\n",
              "      <td>10</td>\n",
              "      <td>199.8</td>\n",
              "      <td>2.6</td>\n",
              "      <td>21.2</td>\n",
              "      <td>10.6</td>\n",
              "    </tr>\n",
              "    <tr>\n",
              "      <th>10</th>\n",
              "      <td>11</td>\n",
              "      <td>66.1</td>\n",
              "      <td>5.8</td>\n",
              "      <td>24.2</td>\n",
              "      <td>8.6</td>\n",
              "    </tr>\n",
              "    <tr>\n",
              "      <th>11</th>\n",
              "      <td>12</td>\n",
              "      <td>214.7</td>\n",
              "      <td>24.0</td>\n",
              "      <td>4.0</td>\n",
              "      <td>17.4</td>\n",
              "    </tr>\n",
              "    <tr>\n",
              "      <th>12</th>\n",
              "      <td>13</td>\n",
              "      <td>23.8</td>\n",
              "      <td>35.1</td>\n",
              "      <td>65.9</td>\n",
              "      <td>9.2</td>\n",
              "    </tr>\n",
              "    <tr>\n",
              "      <th>13</th>\n",
              "      <td>14</td>\n",
              "      <td>97.5</td>\n",
              "      <td>7.6</td>\n",
              "      <td>7.2</td>\n",
              "      <td>9.7</td>\n",
              "    </tr>\n",
              "    <tr>\n",
              "      <th>14</th>\n",
              "      <td>15</td>\n",
              "      <td>204.1</td>\n",
              "      <td>32.9</td>\n",
              "      <td>46.0</td>\n",
              "      <td>19.0</td>\n",
              "    </tr>\n",
              "    <tr>\n",
              "      <th>15</th>\n",
              "      <td>16</td>\n",
              "      <td>195.4</td>\n",
              "      <td>47.7</td>\n",
              "      <td>52.9</td>\n",
              "      <td>22.4</td>\n",
              "    </tr>\n",
              "    <tr>\n",
              "      <th>16</th>\n",
              "      <td>17</td>\n",
              "      <td>67.8</td>\n",
              "      <td>36.6</td>\n",
              "      <td>114.0</td>\n",
              "      <td>12.5</td>\n",
              "    </tr>\n",
              "    <tr>\n",
              "      <th>17</th>\n",
              "      <td>18</td>\n",
              "      <td>281.4</td>\n",
              "      <td>39.6</td>\n",
              "      <td>55.8</td>\n",
              "      <td>24.4</td>\n",
              "    </tr>\n",
              "    <tr>\n",
              "      <th>18</th>\n",
              "      <td>19</td>\n",
              "      <td>69.2</td>\n",
              "      <td>20.5</td>\n",
              "      <td>18.3</td>\n",
              "      <td>11.3</td>\n",
              "    </tr>\n",
              "    <tr>\n",
              "      <th>19</th>\n",
              "      <td>20</td>\n",
              "      <td>147.3</td>\n",
              "      <td>23.9</td>\n",
              "      <td>19.1</td>\n",
              "      <td>14.6</td>\n",
              "    </tr>\n",
              "    <tr>\n",
              "      <th>20</th>\n",
              "      <td>21</td>\n",
              "      <td>218.4</td>\n",
              "      <td>27.7</td>\n",
              "      <td>53.4</td>\n",
              "      <td>18.0</td>\n",
              "    </tr>\n",
              "    <tr>\n",
              "      <th>21</th>\n",
              "      <td>22</td>\n",
              "      <td>237.4</td>\n",
              "      <td>5.1</td>\n",
              "      <td>23.5</td>\n",
              "      <td>12.5</td>\n",
              "    </tr>\n",
              "    <tr>\n",
              "      <th>22</th>\n",
              "      <td>23</td>\n",
              "      <td>13.2</td>\n",
              "      <td>15.9</td>\n",
              "      <td>49.6</td>\n",
              "      <td>5.6</td>\n",
              "    </tr>\n",
              "    <tr>\n",
              "      <th>23</th>\n",
              "      <td>24</td>\n",
              "      <td>228.3</td>\n",
              "      <td>16.9</td>\n",
              "      <td>26.2</td>\n",
              "      <td>15.5</td>\n",
              "    </tr>\n",
              "    <tr>\n",
              "      <th>24</th>\n",
              "      <td>25</td>\n",
              "      <td>62.3</td>\n",
              "      <td>12.6</td>\n",
              "      <td>18.3</td>\n",
              "      <td>9.7</td>\n",
              "    </tr>\n",
              "    <tr>\n",
              "      <th>25</th>\n",
              "      <td>26</td>\n",
              "      <td>262.9</td>\n",
              "      <td>3.5</td>\n",
              "      <td>19.5</td>\n",
              "      <td>12.0</td>\n",
              "    </tr>\n",
              "    <tr>\n",
              "      <th>26</th>\n",
              "      <td>27</td>\n",
              "      <td>142.9</td>\n",
              "      <td>29.3</td>\n",
              "      <td>12.6</td>\n",
              "      <td>15.0</td>\n",
              "    </tr>\n",
              "    <tr>\n",
              "      <th>27</th>\n",
              "      <td>28</td>\n",
              "      <td>240.1</td>\n",
              "      <td>16.7</td>\n",
              "      <td>22.9</td>\n",
              "      <td>15.9</td>\n",
              "    </tr>\n",
              "    <tr>\n",
              "      <th>28</th>\n",
              "      <td>29</td>\n",
              "      <td>248.8</td>\n",
              "      <td>27.1</td>\n",
              "      <td>22.9</td>\n",
              "      <td>18.9</td>\n",
              "    </tr>\n",
              "    <tr>\n",
              "      <th>29</th>\n",
              "      <td>30</td>\n",
              "      <td>70.6</td>\n",
              "      <td>16.0</td>\n",
              "      <td>40.8</td>\n",
              "      <td>10.5</td>\n",
              "    </tr>\n",
              "  </tbody>\n",
              "</table>\n",
              "</div>\n",
              "      <button class=\"colab-df-convert\" onclick=\"convertToInteractive('df-9f835d67-8c87-45f3-9fb8-f51a5bbeba8a')\"\n",
              "              title=\"Convert this dataframe to an interactive table.\"\n",
              "              style=\"display:none;\">\n",
              "        \n",
              "  <svg xmlns=\"http://www.w3.org/2000/svg\" height=\"24px\"viewBox=\"0 0 24 24\"\n",
              "       width=\"24px\">\n",
              "    <path d=\"M0 0h24v24H0V0z\" fill=\"none\"/>\n",
              "    <path d=\"M18.56 5.44l.94 2.06.94-2.06 2.06-.94-2.06-.94-.94-2.06-.94 2.06-2.06.94zm-11 1L8.5 8.5l.94-2.06 2.06-.94-2.06-.94L8.5 2.5l-.94 2.06-2.06.94zm10 10l.94 2.06.94-2.06 2.06-.94-2.06-.94-.94-2.06-.94 2.06-2.06.94z\"/><path d=\"M17.41 7.96l-1.37-1.37c-.4-.4-.92-.59-1.43-.59-.52 0-1.04.2-1.43.59L10.3 9.45l-7.72 7.72c-.78.78-.78 2.05 0 2.83L4 21.41c.39.39.9.59 1.41.59.51 0 1.02-.2 1.41-.59l7.78-7.78 2.81-2.81c.8-.78.8-2.07 0-2.86zM5.41 20L4 18.59l7.72-7.72 1.47 1.35L5.41 20z\"/>\n",
              "  </svg>\n",
              "      </button>\n",
              "      \n",
              "  <style>\n",
              "    .colab-df-container {\n",
              "      display:flex;\n",
              "      flex-wrap:wrap;\n",
              "      gap: 12px;\n",
              "    }\n",
              "\n",
              "    .colab-df-convert {\n",
              "      background-color: #E8F0FE;\n",
              "      border: none;\n",
              "      border-radius: 50%;\n",
              "      cursor: pointer;\n",
              "      display: none;\n",
              "      fill: #1967D2;\n",
              "      height: 32px;\n",
              "      padding: 0 0 0 0;\n",
              "      width: 32px;\n",
              "    }\n",
              "\n",
              "    .colab-df-convert:hover {\n",
              "      background-color: #E2EBFA;\n",
              "      box-shadow: 0px 1px 2px rgba(60, 64, 67, 0.3), 0px 1px 3px 1px rgba(60, 64, 67, 0.15);\n",
              "      fill: #174EA6;\n",
              "    }\n",
              "\n",
              "    [theme=dark] .colab-df-convert {\n",
              "      background-color: #3B4455;\n",
              "      fill: #D2E3FC;\n",
              "    }\n",
              "\n",
              "    [theme=dark] .colab-df-convert:hover {\n",
              "      background-color: #434B5C;\n",
              "      box-shadow: 0px 1px 3px 1px rgba(0, 0, 0, 0.15);\n",
              "      filter: drop-shadow(0px 1px 2px rgba(0, 0, 0, 0.3));\n",
              "      fill: #FFFFFF;\n",
              "    }\n",
              "  </style>\n",
              "\n",
              "      <script>\n",
              "        const buttonEl =\n",
              "          document.querySelector('#df-9f835d67-8c87-45f3-9fb8-f51a5bbeba8a button.colab-df-convert');\n",
              "        buttonEl.style.display =\n",
              "          google.colab.kernel.accessAllowed ? 'block' : 'none';\n",
              "\n",
              "        async function convertToInteractive(key) {\n",
              "          const element = document.querySelector('#df-9f835d67-8c87-45f3-9fb8-f51a5bbeba8a');\n",
              "          const dataTable =\n",
              "            await google.colab.kernel.invokeFunction('convertToInteractive',\n",
              "                                                     [key], {});\n",
              "          if (!dataTable) return;\n",
              "\n",
              "          const docLinkHtml = 'Like what you see? Visit the ' +\n",
              "            '<a target=\"_blank\" href=https://colab.research.google.com/notebooks/data_table.ipynb>data table notebook</a>'\n",
              "            + ' to learn more about interactive tables.';\n",
              "          element.innerHTML = '';\n",
              "          dataTable['output_type'] = 'display_data';\n",
              "          await google.colab.output.renderOutput(dataTable, element);\n",
              "          const docLink = document.createElement('div');\n",
              "          docLink.innerHTML = docLinkHtml;\n",
              "          element.appendChild(docLink);\n",
              "        }\n",
              "      </script>\n",
              "    </div>\n",
              "  </div>\n",
              "  "
            ]
          },
          "metadata": {},
          "execution_count": 18
        }
      ]
    },
    {
      "cell_type": "code",
      "metadata": {
        "id": "h582lgLmXeqL"
      },
      "source": [
        "#drop first column (row number)\n",
        "#ad_data=ad_data.drop(['Unnamed: 0'], axis=1)"
      ],
      "execution_count": 21,
      "outputs": []
    },
    {
      "cell_type": "code",
      "metadata": {
        "id": "acDG8tsMXjLV"
      },
      "source": [
        "ad_data.describe"
      ],
      "execution_count": null,
      "outputs": []
    },
    {
      "cell_type": "code",
      "metadata": {
        "id": "v1C-1jXKXmk4"
      },
      "source": [
        "#let's test out the relationships\n",
        "import seaborn as sn\n",
        "import matplotlib.pyplot as plt"
      ],
      "execution_count": 22,
      "outputs": []
    },
    {
      "cell_type": "code",
      "metadata": {
        "id": "o19TFC24Xnow"
      },
      "source": [
        "pd.plotting.scatter_matrix(ad_data)\n",
        "plt.show()"
      ],
      "execution_count": null,
      "outputs": []
    },
    {
      "cell_type": "code",
      "metadata": {
        "id": "HViKHcA1XsCD"
      },
      "source": [
        "#correlation matrix\n",
        "corrMatrix = ad_data.corr()\n",
        "sn.heatmap(corrMatrix, annot=True)\n",
        "plt.show()"
      ],
      "execution_count": null,
      "outputs": []
    },
    {
      "cell_type": "code",
      "metadata": {
        "id": "hf1SE9VOXt0F"
      },
      "source": [
        "#regression\n",
        "from statsmodels.api import OLS\n",
        "import statsmodels.formula.api as smf"
      ],
      "execution_count": null,
      "outputs": []
    },
    {
      "cell_type": "code",
      "metadata": {
        "id": "rcb-Nt-gX4f7"
      },
      "source": [
        "#model\n",
        "est = smf.ols('sales ~ TV + radio + newspaper',ad_data).fit()\n",
        "est.summary().tables[1]"
      ],
      "execution_count": null,
      "outputs": []
    },
    {
      "cell_type": "code",
      "metadata": {
        "id": "iQPkeRF9YDSE"
      },
      "source": [
        "#get standard output\n",
        "est.summary()"
      ],
      "execution_count": null,
      "outputs": []
    },
    {
      "cell_type": "code",
      "metadata": {
        "id": "hL3I7CwYYIAB"
      },
      "source": [
        "#predicted values\n",
        "pred = est.fittedvalues\n",
        "resid = est.resid\n",
        "\n",
        "# disable chained assignments\n",
        "pd.options.mode.chained_assignment = None \n",
        "\n",
        "ad_data['yhat'] = pred #predicted values\n",
        "ad_data['resid'] = resid #residual values"
      ],
      "execution_count": null,
      "outputs": []
    },
    {
      "cell_type": "code",
      "metadata": {
        "id": "fhxDNb5kYNls"
      },
      "source": [
        "#plot the actual and predicted\n",
        "#add a line\n",
        "lineStart = ad_data.sales.min() \n",
        "lineEnd = ad_data.sales.max()\n",
        "plt.figure()\n",
        "plt.scatter(ad_data['sales'],ad_data['yhat'], marker='o',color = 'k', alpha=0.5)\n",
        "plt.plot([lineStart, lineEnd], [lineStart, lineEnd], 'k-', color = 'r')\n",
        "plt.xlim(lineStart, lineEnd)\n",
        "plt.ylim(lineStart, lineEnd)\n",
        "plt.title('Predicted vs. Actual')\n",
        "plt.xlabel('Actual')\n",
        "plt.ylabel('Predicted')\n",
        "\n",
        "plt.show()"
      ],
      "execution_count": null,
      "outputs": []
    },
    {
      "cell_type": "code",
      "metadata": {
        "id": "IvHPX8ZpYSd_"
      },
      "source": [
        "#residual\n",
        "residcalc = ad_data['sales'] - ad_data['yhat']\n",
        "residcalc.hist(bins = 40)\n",
        "plt.title('Histogram of prediction errors')\n",
        "plt.xlabel('Sales prediction error')\n",
        "plt.ylabel('Frequency')\n",
        "plt.show()"
      ],
      "execution_count": null,
      "outputs": []
    },
    {
      "cell_type": "code",
      "metadata": {
        "id": "FBZF3HvVYdY1"
      },
      "source": [
        "#simple linear regression example\n",
        "simple_all_est = smf.ols('sales ~ TV',ad_data).fit()\n",
        "simple_all_est.summary().tables[1]"
      ],
      "execution_count": null,
      "outputs": []
    },
    {
      "cell_type": "code",
      "metadata": {
        "id": "nwG5sZ3bYieU"
      },
      "source": [
        "#PLOT\n",
        "plt.plot(ad_data['TV'],ad_data['sales'],'o',color='red')\n",
        "m, b = np.polyfit(ad_data['TV'],ad_data['sales'], 1)\n",
        "plt.plot(ad_data['TV'], m*ad_data['TV'] + b)\n",
        "plt.show()"
      ],
      "execution_count": null,
      "outputs": []
    },
    {
      "cell_type": "markdown",
      "metadata": {
        "id": "4hZF7BcnYpt7"
      },
      "source": [
        "##Case Study: Baseball"
      ]
    },
    {
      "cell_type": "code",
      "metadata": {
        "id": "o5CDOkvuZAV5"
      },
      "source": [
        "#Upload files via google colab (not a typical import process for Python)\n",
        "from google.colab import files\n",
        "files.upload()"
      ],
      "execution_count": null,
      "outputs": []
    },
    {
      "cell_type": "code",
      "metadata": {
        "id": "N09qDpJEZRRJ"
      },
      "source": [
        "mlb_data=pd.read_csv(\"MLB Attendance.csv\",encoding = \"utf-8\") #import the data\n",
        "len(mlb_data)#number of records\n",
        "mlb_data.info()#fields\n",
        "mlb_data.head(30)"
      ],
      "execution_count": null,
      "outputs": []
    },
    {
      "cell_type": "code",
      "metadata": {
        "id": "XptOESRGZXFe"
      },
      "source": [
        "#find team names and count of games\n",
        "pd.crosstab(index=mlb_data['home_team'], columns='count')"
      ],
      "execution_count": null,
      "outputs": []
    },
    {
      "cell_type": "code",
      "metadata": {
        "id": "OKpg23BGZZz2"
      },
      "source": [
        "sf_mlb_data = mlb_data[(mlb_data.home_team == \"San Francisco Giants\")]"
      ],
      "execution_count": null,
      "outputs": []
    },
    {
      "cell_type": "code",
      "metadata": {
        "id": "rqTwHeifaqec"
      },
      "source": [
        "sf_mlb_data.info()"
      ],
      "execution_count": null,
      "outputs": []
    },
    {
      "cell_type": "code",
      "metadata": {
        "id": "td8V14XJauM2"
      },
      "source": [
        "sf_mlb_data.head()"
      ],
      "execution_count": null,
      "outputs": []
    },
    {
      "cell_type": "code",
      "metadata": {
        "id": "xnmy9eDZb8kA"
      },
      "source": [
        "#pct filled\n",
        "#Dodgers capacity = 56,000\n",
        "#Giants capacity = 41,915 - change the denominator for your team in the code below\n",
        "sf_mlb_data['pct_full'] = (sf_mlb_data['attend']/41915)*100"
      ],
      "execution_count": null,
      "outputs": []
    },
    {
      "cell_type": "code",
      "metadata": {
        "id": "6xia9VX-cUd5"
      },
      "source": [
        "sf_mlb_data.head(n=5)"
      ],
      "execution_count": null,
      "outputs": []
    },
    {
      "cell_type": "code",
      "metadata": {
        "id": "Pfc89k7kcYMM"
      },
      "source": [
        "sf_mlb_data['pct_full'].plot(kind=\"bar\", title=\"test\")\n",
        "plt.title(\"Percent Filled\")\n",
        "plt.xlabel('Season Games')\n",
        "plt.xticks([])"
      ],
      "execution_count": null,
      "outputs": []
    },
    {
      "cell_type": "code",
      "metadata": {
        "id": "b3J5W68EaxR_"
      },
      "source": [
        "#boxplot\n",
        "boxplot = sn.boxplot(x=\"day_of_week\", y=\"attend\", data=sf_mlb_data)\n",
        "boxplot"
      ],
      "execution_count": null,
      "outputs": []
    },
    {
      "cell_type": "code",
      "metadata": {
        "id": "HyxPNNGGbOs9"
      },
      "source": [
        "boxplot = sn.boxplot(x=\"month\", y=\"attend\", data=sf_mlb_data)\n",
        "boxplot"
      ],
      "execution_count": null,
      "outputs": []
    },
    {
      "cell_type": "code",
      "metadata": {
        "id": "s_nE1J3ZblZ7"
      },
      "source": [
        "#histogram\n",
        "plt.hist(sf_mlb_data[\"attend\"], bins = 20)\n",
        "plt.show()"
      ],
      "execution_count": null,
      "outputs": []
    },
    {
      "cell_type": "code",
      "metadata": {
        "id": "xxFrJ4ewettp"
      },
      "source": [
        "#promotion counts\n",
        "pd.crosstab(index=sf_mlb_data['bobblehead'], columns='count')"
      ],
      "execution_count": null,
      "outputs": []
    },
    {
      "cell_type": "code",
      "metadata": {
        "id": "tb2i1JHEeWP6"
      },
      "source": [
        "#model\n",
        "est = smf.ols('attend ~ day_of_week + bobblehead + temp',sf_mlb_data).fit()\n",
        "est.summary().tables[1]"
      ],
      "execution_count": null,
      "outputs": []
    },
    {
      "cell_type": "code",
      "metadata": {
        "id": "b-ZYmkSRfFwo"
      },
      "source": [
        "#get standard output\n",
        "est.summary()"
      ],
      "execution_count": null,
      "outputs": []
    },
    {
      "cell_type": "code",
      "metadata": {
        "id": "qnInBcH2kpM2"
      },
      "source": [
        "print(1.071e+04)"
      ],
      "execution_count": null,
      "outputs": []
    },
    {
      "cell_type": "code",
      "metadata": {
        "id": "2ijw7MYufRZW"
      },
      "source": [
        "#predicted values\n",
        "#using the training data\n",
        "pred = est.fittedvalues\n",
        "resid = est.resid\n",
        "\n",
        "# disable chained assignments\n",
        "pd.options.mode.chained_assignment = None \n",
        "\n",
        "sf_mlb_data['yhat'] = pred #predicted values\n",
        "sf_mlb_data['resid'] = resid #residual values"
      ],
      "execution_count": null,
      "outputs": []
    },
    {
      "cell_type": "code",
      "metadata": {
        "id": "j5B7pvKrfXFQ"
      },
      "source": [
        "#plot the actual and predicted\n",
        "#add a line\n",
        "lineStart = sf_mlb_data.attend.min() \n",
        "lineEnd = sf_mlb_data.attend.max()\n",
        "plt.figure()\n",
        "plt.scatter(sf_mlb_data['attend'],sf_mlb_data['yhat'], marker='o',color = 'k', alpha=0.5)\n",
        "plt.plot([lineStart, lineEnd], [lineStart, lineEnd], 'k-', color = 'r')\n",
        "plt.xlim(lineStart, lineEnd)\n",
        "plt.ylim(lineStart, lineEnd)\n",
        "plt.title('Predicted vs. Actual')\n",
        "plt.xlabel('Actual')\n",
        "plt.ylabel('Predicted')\n",
        "\n",
        "plt.show()"
      ],
      "execution_count": null,
      "outputs": []
    },
    {
      "cell_type": "markdown",
      "metadata": {
        "id": "sML-Q2Yit_tO"
      },
      "source": [
        "##Week 4\n",
        "\n",
        "##Cluster Analysis"
      ]
    },
    {
      "cell_type": "code",
      "metadata": {
        "id": "hRPGagLut_au"
      },
      "source": [
        "#load some libraries\n",
        "from sklearn.preprocessing import scale\n",
        "from sklearn.decomposition import PCA\n",
        "from sklearn.cluster import KMeans\n",
        "\n",
        "from scipy.cluster import hierarchy"
      ],
      "execution_count": null,
      "outputs": []
    },
    {
      "cell_type": "code",
      "metadata": {
        "id": "zTQaJHvIt8WZ"
      },
      "source": [
        "#import the data\n",
        "from google.colab import files\n",
        "files.upload()"
      ],
      "execution_count": null,
      "outputs": []
    },
    {
      "cell_type": "code",
      "metadata": {
        "id": "hkxf6kAuuVLT"
      },
      "source": [
        "#Python dataset\n",
        "sticks = pd.read_csv('/content/Survey Data.csv');"
      ],
      "execution_count": null,
      "outputs": []
    },
    {
      "cell_type": "code",
      "metadata": {
        "id": "QCf7OoWQukSb"
      },
      "source": [
        "len(sticks)#number of records\n",
        "sticks.info()#fields\n",
        "sticks.head(30)"
      ],
      "execution_count": null,
      "outputs": []
    },
    {
      "cell_type": "code",
      "metadata": {
        "id": "MUbGilgixoNX"
      },
      "source": [
        "# drop all rows with any NaN and NaT values\n",
        "sticks = sticks.dropna()\n",
        "#YOU WILL NOT BE ABLE TO RUN THE CLUSTER ANALYSIS WITH NA VALUES"
      ],
      "execution_count": null,
      "outputs": []
    },
    {
      "cell_type": "code",
      "metadata": {
        "id": "W8CfGOsquw2C"
      },
      "source": [
        "#exclude customer status from the clustering (you should always only feed only columns that contribute to the clusters)\n",
        "sticks_forcluster = sticks.drop(columns=['Obs', 'Customer'])"
      ],
      "execution_count": null,
      "outputs": []
    },
    {
      "cell_type": "code",
      "metadata": {
        "id": "UJgdsytzus1m"
      },
      "source": [
        "#run a number of values for K\n",
        "distortions = []\n",
        "K = range(1,10)\n",
        "for k in K:\n",
        "    kmeanModel = KMeans(n_clusters=k)\n",
        "    kmeanModel.fit(sticks_forcluster)\n",
        "    distortions.append(kmeanModel.inertia_)"
      ],
      "execution_count": null,
      "outputs": []
    },
    {
      "cell_type": "code",
      "metadata": {
        "id": "Hec1cc2Ov2MY"
      },
      "source": [
        "#create an elbow plot\n",
        "plt.plot(K, distortions, 'bx-')\n",
        "plt.xlabel('k')\n",
        "plt.ylabel('Clusters')\n",
        "plt.title('The Elbow Method showing the optimal k')\n",
        "plt.show()"
      ],
      "execution_count": null,
      "outputs": []
    },
    {
      "cell_type": "code",
      "metadata": {
        "id": "lku0Tbmcv9yX"
      },
      "source": [
        "#kmeans results after choosing number of clusters\n",
        "kmeanModel = KMeans(n_clusters=5)\n",
        "kmeanModel.fit(sticks_forcluster)"
      ],
      "execution_count": null,
      "outputs": []
    },
    {
      "cell_type": "code",
      "metadata": {
        "id": "dfnwJ5f2wHba"
      },
      "source": [
        "#assign cluster number\n",
        "sticks_forcluster['k_means']=kmeanModel.predict(sticks_forcluster)\n",
        "\n",
        "len(sticks_forcluster)#number of records\n",
        "sticks_forcluster.info()#fields\n",
        "sticks_forcluster.head(30)"
      ],
      "execution_count": null,
      "outputs": []
    },
    {
      "cell_type": "code",
      "metadata": {
        "id": "RB69YK7Zwm-P"
      },
      "source": [
        "#merge back to other data\n",
        "# Select the ones you want\n",
        "sticks['km.out.cluster'] = sticks_forcluster['k_means']"
      ],
      "execution_count": null,
      "outputs": []
    },
    {
      "cell_type": "code",
      "metadata": {
        "id": "DvL3r_SXyVl8"
      },
      "source": [
        "sticks.head()"
      ],
      "execution_count": null,
      "outputs": []
    },
    {
      "cell_type": "code",
      "metadata": {
        "id": "Umf5wmeayYa5"
      },
      "source": [
        "#how many ended up in each cluster\n",
        "pd.Series(kmeanModel.labels_).value_counts()"
      ],
      "execution_count": null,
      "outputs": []
    },
    {
      "cell_type": "code",
      "metadata": {
        "id": "t_LujFtVyoop"
      },
      "source": [
        "#cluster centers\n",
        "print(kmeanModel.cluster_centers_)"
      ],
      "execution_count": null,
      "outputs": []
    },
    {
      "cell_type": "markdown",
      "metadata": {
        "id": "x_fqwUp_zQB1"
      },
      "source": [
        "cluster_centers_: ndarray of shape (n_clusters, n_features)\n",
        "\n",
        "So, each column is a feature (mean) and each row is the cluster"
      ]
    },
    {
      "cell_type": "code",
      "metadata": {
        "id": "WDkpWvVO31HU"
      },
      "source": [
        "Survey_Data_Cluster_Centers = pd.DataFrame(kmeanModel.cluster_centers_)\n",
        "Survey_Data_Cluster_Centers.head()"
      ],
      "execution_count": null,
      "outputs": []
    },
    {
      "cell_type": "code",
      "metadata": {
        "id": "2wpI9dFtzQ9L"
      },
      "source": [
        "#cluster assignment\n",
        "kmeanModel.labels_"
      ],
      "execution_count": null,
      "outputs": []
    },
    {
      "cell_type": "code",
      "metadata": {
        "id": "qIZpjkXB0dFX"
      },
      "source": [
        "#Sum of distances of observation to its closest cluster center\n",
        "kmeanModel.inertia_\n",
        "\n",
        "#well, that looks pretty close to R and SPSS"
      ],
      "execution_count": null,
      "outputs": []
    },
    {
      "cell_type": "code",
      "metadata": {
        "id": "ZvngzwDi0mBh"
      },
      "source": [
        "#create a plot to make sense of this\n",
        "\n",
        "plt.figure(figsize=(8, 6))\n",
        "plt.scatter(sticks['I think it is important to purchase products that are made locally.'], \n",
        "            sticks['I carefully consider the health benefits of what I eat.'], \n",
        "            c=sticks['km.out.cluster'])\n",
        "plt.title(\"Kmeans\")\n",
        "plt.xlabel(\"LOCAL IMPORTANT\")\n",
        "plt.ylabel(\"HEALTH BENEFITS IMPORTANT\")"
      ],
      "execution_count": null,
      "outputs": []
    },
    {
      "cell_type": "markdown",
      "metadata": {
        "id": "NkjaDiUs1ias"
      },
      "source": [
        "That's not useful is it?"
      ]
    },
    {
      "cell_type": "code",
      "metadata": {
        "id": "njKwrtzF2bKs"
      },
      "source": [
        "#remeber mosiac plots\n",
        "from statsmodels.graphics.mosaicplot import mosaic"
      ],
      "execution_count": null,
      "outputs": []
    },
    {
      "cell_type": "code",
      "metadata": {
        "id": "DKkhxULv2nz6"
      },
      "source": [
        "#mosiac plot\n",
        "mosaic(sticks,['km.out.cluster','Customer'])\n",
        "plt.show()"
      ],
      "execution_count": null,
      "outputs": []
    },
    {
      "cell_type": "code",
      "metadata": {
        "id": "1kAdfjbC4aum"
      },
      "source": [
        "#export means to csv\n",
        "from google.colab import files\n",
        "Survey_Data_Cluster_Centers.to_csv('Survey_Data_Cluster_Centers_Python.csv') \n",
        "files.download('Survey_Data_Cluster_Centers_Python.csv')"
      ],
      "execution_count": null,
      "outputs": []
    },
    {
      "cell_type": "code",
      "metadata": {
        "id": "HvGD-GrI3Aup"
      },
      "source": [
        "#export data to csv\n",
        "from google.colab import files\n",
        "sticks.to_csv('Survey_Data_Cluster_Python.csv') \n",
        "files.download('Survey_Data_Cluster_Python.csv')"
      ],
      "execution_count": null,
      "outputs": []
    },
    {
      "cell_type": "markdown",
      "metadata": {
        "id": "NU6EruHc5yS8"
      },
      "source": [
        "##Week 6\n",
        "\n",
        "Logistic Regression\n",
        "\n",
        "Campaign"
      ]
    },
    {
      "cell_type": "code",
      "metadata": {
        "id": "1Av1f2w86TY3"
      },
      "source": [
        "#additional library\n",
        "import os as os"
      ],
      "execution_count": null,
      "outputs": []
    },
    {
      "cell_type": "code",
      "metadata": {
        "id": "nm1mSeiq6Rq4"
      },
      "source": [
        "#import the data\n",
        "from google.colab import files\n",
        "files.upload()"
      ],
      "execution_count": null,
      "outputs": []
    },
    {
      "cell_type": "code",
      "metadata": {
        "id": "FuZM23RA6ghw"
      },
      "source": [
        "#Python dataset\n",
        "camp = pd.read_csv('/content/Campaign Data.csv');"
      ],
      "execution_count": null,
      "outputs": []
    },
    {
      "cell_type": "code",
      "metadata": {
        "id": "6jnh-fLg6rL8"
      },
      "source": [
        "len(camp)#number of records\n",
        "camp.info()#fields\n",
        "camp.head(30)"
      ],
      "execution_count": null,
      "outputs": []
    },
    {
      "cell_type": "code",
      "metadata": {
        "id": "T2pzEdFE6tpg"
      },
      "source": [
        "#describe the data\n",
        "camp.describe"
      ],
      "execution_count": null,
      "outputs": []
    },
    {
      "cell_type": "code",
      "metadata": {
        "id": "ri9Mxj5j6xVq"
      },
      "source": [
        "#let's test out the relationships\n",
        "import seaborn as sn\n",
        "import matplotlib.pyplot as plt"
      ],
      "execution_count": null,
      "outputs": []
    },
    {
      "cell_type": "code",
      "metadata": {
        "id": "ZlQfvOI_60xf"
      },
      "source": [
        "from statsmodels.graphics.mosaicplot import mosaic"
      ],
      "execution_count": null,
      "outputs": []
    },
    {
      "cell_type": "code",
      "metadata": {
        "id": "1Gk95M0z62ar"
      },
      "source": [
        "#look at a handful of relationships\n",
        "#mosiac plot\n",
        "mosaic(camp,['Democrat','Supporter'])\n",
        "plt.show()"
      ],
      "execution_count": null,
      "outputs": []
    },
    {
      "cell_type": "code",
      "metadata": {
        "id": "CbD7pyzr7b_X"
      },
      "source": [
        "pd.crosstab(camp['Democrat'], camp['Supporter'])"
      ],
      "execution_count": null,
      "outputs": []
    },
    {
      "cell_type": "code",
      "metadata": {
        "id": "U3ViTZJY8EDX"
      },
      "source": [
        "#import regression libraries\n",
        "from sklearn.model_selection import train_test_split \n",
        "from sklearn.linear_model import LogisticRegression\n",
        "from sklearn.metrics import classification_report, confusion_matrix"
      ],
      "execution_count": null,
      "outputs": []
    },
    {
      "cell_type": "code",
      "metadata": {
        "id": "884ph3GK8Hhr"
      },
      "source": [
        "camp_model = LogisticRegression(solver='liblinear', random_state=0)"
      ],
      "execution_count": null,
      "outputs": []
    },
    {
      "cell_type": "code",
      "metadata": {
        "id": "QU4cE8bj8L0D"
      },
      "source": [
        "import statsmodels.api as sm\n",
        "#we neeed to specify that we want to include an intercept\n",
        "camp['intercept']=1.0 \n",
        "\n",
        "# identify the independent variables \n",
        "camp_ind_cols=['Democrat','Age','Income','intercept']\n",
        "\n",
        "camp_logit = sm.Logit(camp['Supporter'],camp[camp_ind_cols])\n",
        "\n",
        "camp_result=camp_logit.fit()"
      ],
      "execution_count": null,
      "outputs": []
    },
    {
      "cell_type": "code",
      "metadata": {
        "id": "RFXNC2ZO8f0q"
      },
      "source": [
        "print(camp_result.summary())"
      ],
      "execution_count": null,
      "outputs": []
    },
    {
      "cell_type": "code",
      "metadata": {
        "id": "g1Gk9BNP8iwT"
      },
      "source": [
        "print(\"Coefficeients\")\n",
        "print(camp_result.params)\n",
        "print()\n",
        "print(\"p-Values\")\n",
        "print(camp_result.pvalues)\n",
        "print()\n",
        "print(\"Dependent variables\")\n",
        "print(camp_result.model.endog_names)"
      ],
      "execution_count": null,
      "outputs": []
    },
    {
      "cell_type": "code",
      "metadata": {
        "id": "nfYbFb968mHH"
      },
      "source": [
        "#take the exponential\n",
        "import math"
      ],
      "execution_count": null,
      "outputs": []
    },
    {
      "cell_type": "code",
      "metadata": {
        "id": "bFh2N_DY8ncq"
      },
      "source": [
        "print(\"Exp of Coefficeients\")\n",
        "print(\"Democrat\")\n",
        "print(math.exp(camp_result.params['Democrat']))\n",
        "print(\"Age\")\n",
        "print(math.exp(camp_result.params['Age']))\n",
        "print(\"Income\")\n",
        "print(math.exp(camp_result.params['Income']))"
      ],
      "execution_count": null,
      "outputs": []
    },
    {
      "cell_type": "code",
      "metadata": {
        "id": "yXJdtGWt80Bv"
      },
      "source": [
        "#prediction\n",
        "camp['predicted_prob'] = camp_result.predict()\n",
        "#predicted class\n",
        "camp['predictions_nominal'] = [ 0 if x < 0.5 else 1 for x in camp['predicted_prob']]"
      ],
      "execution_count": null,
      "outputs": []
    },
    {
      "cell_type": "code",
      "metadata": {
        "id": "o2H8Ghm99ApI"
      },
      "source": [
        "#confusion matrix\n",
        "print(confusion_matrix(camp[\"Supporter\"],camp['predictions_nominal']))"
      ],
      "execution_count": null,
      "outputs": []
    },
    {
      "cell_type": "markdown",
      "metadata": {
        "id": "ktbj2OGg9VDc"
      },
      "source": [
        "Logistic Regression\n",
        "\n",
        "Coffee (Choice)"
      ]
    },
    {
      "cell_type": "code",
      "metadata": {
        "id": "xUTgor4a9wIP"
      },
      "source": [
        "#import the data\n",
        "from google.colab import files\n",
        "files.upload()"
      ],
      "execution_count": null,
      "outputs": []
    },
    {
      "cell_type": "code",
      "metadata": {
        "id": "JQ60aVxQ95QP"
      },
      "source": [
        "#Python dataset\n",
        "coffee = pd.read_csv('/content/CoffeePress.csv');"
      ],
      "execution_count": null,
      "outputs": []
    },
    {
      "cell_type": "code",
      "metadata": {
        "id": "XFyn1yOQ9-Mv"
      },
      "source": [
        "len(coffee)#number of records\n",
        "coffee.info()#fields\n",
        "coffee.head(30)"
      ],
      "execution_count": null,
      "outputs": []
    },
    {
      "cell_type": "code",
      "metadata": {
        "id": "ahXY-CCz9Ubd"
      },
      "source": [
        "coffee_model = LogisticRegression(solver='liblinear', random_state=0)"
      ],
      "execution_count": null,
      "outputs": []
    },
    {
      "cell_type": "code",
      "metadata": {
        "id": "JztuBkyw9p86"
      },
      "source": [
        "import statsmodels.api as sm\n",
        "#we neeed to specify that we want to include an intercept\n",
        "coffee['intercept']=1.0 \n",
        "\n",
        "# identify the independent variables \n",
        "coffee_ind_cols=['Age','Female','HH_Income','intercept']\n",
        "\n",
        "coffee_logit = sm.Logit(coffee['Purchased_CoffeePress'],coffee[coffee_ind_cols])\n",
        "\n",
        "coffee_result=coffee_logit.fit()"
      ],
      "execution_count": null,
      "outputs": []
    },
    {
      "cell_type": "code",
      "metadata": {
        "id": "iXMDuDAZ-ehu"
      },
      "source": [
        "print(coffee_result.summary())"
      ],
      "execution_count": null,
      "outputs": []
    },
    {
      "cell_type": "code",
      "metadata": {
        "id": "PXBhQ8OX-nz0"
      },
      "source": [
        "print(\"Coefficeients\")\n",
        "print(coffee_result.params)\n",
        "print()\n",
        "print(\"p-Values\")\n",
        "print(coffee_result.pvalues)\n",
        "print()\n",
        "print(\"Dependent variables\")\n",
        "print(coffee_result.model.endog_names)"
      ],
      "execution_count": null,
      "outputs": []
    },
    {
      "cell_type": "code",
      "metadata": {
        "id": "mRM9zy7_-xze"
      },
      "source": [
        "print(\"Exp of Coefficeients\")\n",
        "print(\"Age\")\n",
        "print(math.exp(coffee_result.params['Age']))\n",
        "print(\"Female\")\n",
        "print(math.exp(coffee_result.params['Female']))\n",
        "print(\"HH_Income\")\n",
        "print(math.exp(coffee_result.params['HH_Income']))"
      ],
      "execution_count": null,
      "outputs": []
    },
    {
      "cell_type": "code",
      "metadata": {
        "id": "XkQUCwXb__DO"
      },
      "source": [
        "#prediction\n",
        "coffee['predicted_prob'] = coffee_result.predict()\n",
        "#predicted class\n",
        "coffee['predictions_nominal'] = [ 0 if x < 0.5 else 1 for x in coffee['predicted_prob']]"
      ],
      "execution_count": null,
      "outputs": []
    },
    {
      "cell_type": "code",
      "metadata": {
        "id": "-Sq2a9TpAGFI"
      },
      "source": [
        "#confusion matrix\n",
        "print(confusion_matrix(coffee[\"Purchased_CoffeePress\"],coffee['predictions_nominal']))"
      ],
      "execution_count": null,
      "outputs": []
    },
    {
      "cell_type": "code",
      "metadata": {
        "id": "PV9PoX8tASma"
      },
      "source": [
        "pd.crosstab(coffee['Purchased_CoffeePress'], coffee['predictions_nominal'])"
      ],
      "execution_count": null,
      "outputs": []
    },
    {
      "cell_type": "code",
      "metadata": {
        "id": "Ih-MSUmYH2EF"
      },
      "source": [
        "(179+992)/(992+33+141+179)"
      ],
      "execution_count": null,
      "outputs": []
    },
    {
      "cell_type": "code",
      "metadata": {
        "id": "cfqaRfxnH_KQ"
      },
      "source": [
        "(179)/(141+179)"
      ],
      "execution_count": null,
      "outputs": []
    }
  ]
}