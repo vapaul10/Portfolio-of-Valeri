{
  "cells": [
    {
      "cell_type": "markdown",
      "metadata": {
        "id": "view-in-github",
        "colab_type": "text"
      },
      "source": [
        "<a href=\"https://colab.research.google.com/github/vapaul10/Portfolio-of-Valeri/blob/main/Lesson8_Handle_Exceptions_(1).ipynb\" target=\"_parent\"><img src=\"https://colab.research.google.com/assets/colab-badge.svg\" alt=\"Open In Colab\"/></a>"
      ]
    },
    {
      "cell_type": "code",
      "execution_count": 1,
      "id": "e39a908b",
      "metadata": {
        "id": "e39a908b"
      },
      "outputs": [],
      "source": [
        "###Lesson8_Handle_Exceptions_module"
      ]
    },
    {
      "cell_type": "code",
      "execution_count": 2,
      "id": "6a62d42e",
      "metadata": {
        "id": "6a62d42e"
      },
      "outputs": [],
      "source": [
        "from exceptional import convert"
      ]
    },
    {
      "cell_type": "code",
      "execution_count": 3,
      "id": "6b5d9e50",
      "metadata": {
        "colab": {
          "base_uri": "https://localhost:8080/"
        },
        "id": "6b5d9e50",
        "outputId": "9554c4a2-1654-4dd7-8b53-548259538f20"
      },
      "outputs": [
        {
          "output_type": "stream",
          "name": "stdout",
          "text": [
            "Conversion succeeded! x = 34\n"
          ]
        }
      ],
      "source": [
        "convert(\"three four\".split())"
      ]
    },
    {
      "cell_type": "code",
      "execution_count": 4,
      "id": "9aaa01e7",
      "metadata": {
        "colab": {
          "base_uri": "https://localhost:8080/"
        },
        "id": "9aaa01e7",
        "outputId": "d6d49e8e-7f05-43a3-c295-93d1c015b170"
      },
      "outputs": [
        {
          "output_type": "stream",
          "name": "stdout",
          "text": [
            "Conversion failed!\n"
          ]
        },
        {
          "output_type": "execute_result",
          "data": {
            "text/plain": [
              "-1"
            ]
          },
          "metadata": {},
          "execution_count": 4
        }
      ],
      "source": [
        "convert(\"eleventeen\".split())"
      ]
    },
    {
      "cell_type": "code",
      "execution_count": 5,
      "id": "88245dba",
      "metadata": {
        "colab": {
          "base_uri": "https://localhost:8080/"
        },
        "id": "88245dba",
        "outputId": "9458be0b-0fea-4fed-e351-bb572dc73fa8"
      },
      "outputs": [
        {
          "output_type": "stream",
          "name": "stdout",
          "text": [
            "Conversion failed!\n"
          ]
        },
        {
          "output_type": "execute_result",
          "data": {
            "text/plain": [
              "-1"
            ]
          },
          "metadata": {},
          "execution_count": 5
        }
      ],
      "source": [
        "convert(512)"
      ]
    }
  ],
  "metadata": {
    "kernelspec": {
      "display_name": "Python 3 (ipykernel)",
      "language": "python",
      "name": "python3"
    },
    "language_info": {
      "codemirror_mode": {
        "name": "ipython",
        "version": 3
      },
      "file_extension": ".py",
      "mimetype": "text/x-python",
      "name": "python",
      "nbconvert_exporter": "python",
      "pygments_lexer": "ipython3",
      "version": "3.9.12"
    },
    "colab": {
      "provenance": [],
      "include_colab_link": true
    }
  },
  "nbformat": 4,
  "nbformat_minor": 5
}