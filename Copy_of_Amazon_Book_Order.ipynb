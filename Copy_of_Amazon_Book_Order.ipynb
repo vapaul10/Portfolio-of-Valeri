{
  "nbformat": 4,
  "nbformat_minor": 0,
  "metadata": {
    "colab": {
      "provenance": [],
      "authorship_tag": "ABX9TyPzyX3bTF8H1LCARSYbs5iC",
      "include_colab_link": true
    },
    "kernelspec": {
      "name": "python3",
      "display_name": "Python 3"
    },
    "language_info": {
      "name": "python"
    }
  },
  "cells": [
    {
      "cell_type": "markdown",
      "metadata": {
        "id": "view-in-github",
        "colab_type": "text"
      },
      "source": [
        "<a href=\"https://colab.research.google.com/github/vapaul10/Portfolio-of-Valeri/blob/main/Copy_of_Amazon_Book_Order.ipynb\" target=\"_parent\"><img src=\"https://colab.research.google.com/assets/colab-badge.svg\" alt=\"Open In Colab\"/></a>"
      ]
    },
    {
      "cell_type": "code",
      "execution_count": null,
      "metadata": {
        "id": "Y-a9aB-4k77T"
      },
      "outputs": [],
      "source": [
        "### Stratascratch tutorial (Valeri's work)"
      ]
    },
    {
      "cell_type": "markdown",
      "source": [
        "### Monthly Sales Rolling Average"
      ],
      "metadata": {
        "id": "gKUE29I8pV6M"
      }
    },
    {
      "cell_type": "markdown",
      "source": [
        "###### Question \n",
        "You have been asked to calculate the rolling average for book sales in 2022.\n",
        "\n",
        "\n",
        "A rolling average continuously updates a data set's average to include all data in the set up to that point. For example, the rolling average for February would be calculated by adding the book sales from January and February and dividing by two; the rolling average for March would be calculated by adding the book sales from January, February, and March and dividing by three; and so on.\n",
        "\n",
        "\n",
        "Output the date, the sales for that date, and an extra column containing the rolling average rounded to the nearest whole number."
      ],
      "metadata": {
        "id": "ab5BKtidpfJN"
      }
    },
    {
      "cell_type": "code",
      "source": [
        "#Install Python Datatable (same at data.table() in R)\n",
        "#!pip install datatable\n",
        "import datatable as dt\n",
        "\n",
        "from datatable import (dt, f, by, ifelse, update, sort, count, min, max, mean, sum, rowsum)"
      ],
      "metadata": {
        "colab": {
          "base_uri": "https://localhost:8080/",
          "height": 391
        },
        "id": "xAn9CXejG49f",
        "outputId": "5cb2431d-a492-414c-8883-66c7dc9af903"
      },
      "execution_count": null,
      "outputs": [
        {
          "output_type": "error",
          "ename": "ModuleNotFoundError",
          "evalue": "ignored",
          "traceback": [
            "\u001b[0;31m---------------------------------------------------------------------------\u001b[0m",
            "\u001b[0;31mModuleNotFoundError\u001b[0m                       Traceback (most recent call last)",
            "\u001b[0;32m<ipython-input-24-6aa4d328404d>\u001b[0m in \u001b[0;36m<cell line: 3>\u001b[0;34m()\u001b[0m\n\u001b[1;32m      1\u001b[0m \u001b[0;31m#Install Python Datatable (same at data.table() in R)\u001b[0m\u001b[0;34m\u001b[0m\u001b[0;34m\u001b[0m\u001b[0m\n\u001b[1;32m      2\u001b[0m \u001b[0;31m#!pip install datatable\u001b[0m\u001b[0;34m\u001b[0m\u001b[0;34m\u001b[0m\u001b[0m\n\u001b[0;32m----> 3\u001b[0;31m \u001b[0;32mimport\u001b[0m \u001b[0mdatatable\u001b[0m \u001b[0;32mas\u001b[0m \u001b[0mdt\u001b[0m\u001b[0;34m\u001b[0m\u001b[0;34m\u001b[0m\u001b[0m\n\u001b[0m\u001b[1;32m      4\u001b[0m \u001b[0;34m\u001b[0m\u001b[0m\n\u001b[1;32m      5\u001b[0m \u001b[0;32mfrom\u001b[0m \u001b[0mdatatable\u001b[0m \u001b[0;32mimport\u001b[0m \u001b[0;34m(\u001b[0m\u001b[0mdt\u001b[0m\u001b[0;34m,\u001b[0m \u001b[0mf\u001b[0m\u001b[0;34m,\u001b[0m \u001b[0mby\u001b[0m\u001b[0;34m,\u001b[0m \u001b[0mifelse\u001b[0m\u001b[0;34m,\u001b[0m \u001b[0mupdate\u001b[0m\u001b[0;34m,\u001b[0m \u001b[0msort\u001b[0m\u001b[0;34m,\u001b[0m \u001b[0mcount\u001b[0m\u001b[0;34m,\u001b[0m \u001b[0mmin\u001b[0m\u001b[0;34m,\u001b[0m \u001b[0mmax\u001b[0m\u001b[0;34m,\u001b[0m \u001b[0mmean\u001b[0m\u001b[0;34m,\u001b[0m \u001b[0msum\u001b[0m\u001b[0;34m,\u001b[0m \u001b[0mrowsum\u001b[0m\u001b[0;34m)\u001b[0m\u001b[0;34m\u001b[0m\u001b[0;34m\u001b[0m\u001b[0m\n",
            "\u001b[0;31mModuleNotFoundError\u001b[0m: No module named 'datatable'",
            "",
            "\u001b[0;31m---------------------------------------------------------------------------\u001b[0;32m\nNOTE: If your import is failing due to a missing package, you can\nmanually install dependencies using either !pip or !apt.\n\nTo view examples of installing some common dependencies, click the\n\"Open Examples\" button below.\n\u001b[0;31m---------------------------------------------------------------------------\u001b[0m\n"
          ],
          "errorDetails": {
            "actions": [
              {
                "action": "open_url",
                "actionText": "Open Examples",
                "url": "/notebooks/snippets/importing_libraries.ipynb"
              }
            ]
          }
        }
      ]
    },
    {
      "cell_type": "code",
      "source": [
        "# Import your libraries\n",
        "import pandas as pd\n",
        "import numpy as np\n",
        "import datetime as datetimes\n",
        "import time as time"
      ],
      "metadata": {
        "id": "2IWOhekApNSs"
      },
      "execution_count": null,
      "outputs": []
    },
    {
      "cell_type": "code",
      "source": [
        "#Install python datatable which is the same as data.table() in R\n",
        "!pip install datatables\n",
        "import datatable as dt\n",
        "\n",
        "from datatable import (dt, f, by, ifelse, update, sort, count,\n",
        "                       min, max, mean, sum, rowsum)"
      ],
      "metadata": {
        "id": "kxLrNfxpacBm",
        "colab": {
          "base_uri": "https://localhost:8080/",
          "height": 135
        },
        "outputId": "f0e8a2df-1974-43e7-b5d9-4ae3f9fa31a9"
      },
      "execution_count": null,
      "outputs": [
        {
          "output_type": "error",
          "ename": "SyntaxError",
          "evalue": "ignored",
          "traceback": [
            "\u001b[0;36m  File \u001b[0;32m\"<ipython-input-21-bee11c08318a>\"\u001b[0;36m, line \u001b[0;32m2\u001b[0m\n\u001b[0;31m    pip install datatables\u001b[0m\n\u001b[0m        ^\u001b[0m\n\u001b[0;31mSyntaxError\u001b[0m\u001b[0;31m:\u001b[0m invalid syntax\n"
          ]
        }
      ]
    },
    {
      "cell_type": "code",
      "source": [
        "# Install data from Amazon Books database Start writing code\n",
        "amazon_books_pd = dt.fread(\"https://raw.githubusercontent.com/vapaul10/Portfolio-of-Valeri/41cefe2cd5218ab780ee4d3649a51b0fbf0f9947/amazon_books.csv\")\n",
        "#amazon_books_pd = pd.read_csv(\"https://raw.githubusercontent.com/vapaul10/Portfolio-of-Valeri/41cefe2cd5218ab780ee4d3649a51b0fbf0f9947/amazon_books.csv\")\n",
        "\n",
        "amazon_books_pd.head(10)"
      ],
      "metadata": {
        "id": "2NFg_i7DpvLx"
      },
      "execution_count": null,
      "outputs": []
    },
    {
      "cell_type": "code",
      "source": [
        "## Data Attributes\n",
        "amazon_books_pd.names"
      ],
      "metadata": {
        "id": "VJS4IX_Teo1-"
      },
      "execution_count": null,
      "outputs": []
    },
    {
      "cell_type": "code",
      "source": [
        "## Install data from Book_Orders database. Dt  Start writing code\n",
        "book_orders_pd = dt.fread(\"https://raw.githubusercontent.com/vapaul10/Portfolio-of-Valeri/main/book_orders.csv\")\n",
        "#book_orders_pd = pd.read_csv(\"https://raw.githubusercontent.com/vapaul10/Portfolio-of-Valeri/main/book_orders.csv\")\n",
        "\n",
        "book_orders_pd.head()"
      ],
      "metadata": {
        "id": "M6dFWVcue0I4"
      },
      "execution_count": null,
      "outputs": []
    },
    {
      "cell_type": "code",
      "source": [
        "amazon_books_pd = amazon_books_p.to_pandas()\n",
        "amazon_books_pd.head"
      ],
      "metadata": {
        "id": "vzHc2RodgaG0"
      },
      "execution_count": null,
      "outputs": []
    },
    {
      "cell_type": "code",
      "source": [
        "book_orders_p=dt.Frame(book_orders_pd)"
      ],
      "metadata": {
        "id": "8hTQvz8BibQ_"
      },
      "execution_count": null,
      "outputs": []
    },
    {
      "cell_type": "code",
      "source": [
        "book_orders_pd = book_orders_p.to_pandas()\n",
        "book_orders_pd.head()"
      ],
      "metadata": {
        "id": "Yf6IXTDxghw1"
      },
      "execution_count": null,
      "outputs": []
    },
    {
      "cell_type": "markdown",
      "source": [
        "EXPLORATORY DATA ANALYSIS"
      ],
      "metadata": {
        "id": "J6iVJxKJfKcY"
      }
    },
    {
      "cell_type": "code",
      "source": [
        "amazon_books_pd=amazon_books_p.to_pandas()  #Convert the Datatable object to Pandas object \n",
        "summary = amazon_books_pd.describe()\n",
        "summary = summary.transpose()\n",
        "summary"
      ],
      "metadata": {
        "id": "utTsAz2C01ad"
      },
      "execution_count": null,
      "outputs": []
    },
    {
      "cell_type": "code",
      "source": [
        "book_orders_pd=book_orders_p.to_pandas()  #Convert the Datatable object to Pandas object \n",
        "summary = book_orders_pd.describe()\n",
        "summary = summary.transpose()\n",
        "summary"
      ],
      "metadata": {
        "id": "XZXETvqJ1DW8"
      },
      "execution_count": null,
      "outputs": []
    },
    {
      "cell_type": "code",
      "source": [
        "#Factor the features of Amazon Books and Book Order databases. \n",
        "df = pd.merge(amazon_books_pd, book_orders_pd, on='book_id',how='inner').assign(sales =lambda x: x['unit_price']*x['quantity'])\n",
        "df = df[pd.to_datetime(df['order_date']).dt.to_period('M').dt.year == 2022]\n",
        "#df['order_date'] = df['order_date'].dt.month\n",
        "df = df.groupby('order_date')['sales'].sum().reset_index().sort_values('order_date').assign(rolling_avg = lambda x: x['sales'].expanding().mean().round(0))\n",
        "df.head()"
      ],
      "metadata": {
        "id": "imWArQ1e1aVv"
      },
      "execution_count": null,
      "outputs": []
    },
    {
      "cell_type": "code",
      "source": [
        "### Merge Data"
      ],
      "metadata": {
        "id": "er6zgp-7fWDJ"
      },
      "execution_count": null,
      "outputs": []
    },
    {
      "cell_type": "code",
      "source": [
        "# merge data\n",
        "merged = pd.merge(book_orders_pd, amazon_books_pd, on=\"book_id\", how=\"inner\")\n",
        "merged[\"order_date\"] = pd.to_datetime(merged[\"order_date\"])\n",
        "merged[\"order_month\"] = merged[\"order_date\"].dt.month\n",
        "merged[\"year\"] = merged[\"order_date\"].dt.year\n",
        "merged[\"sales\"] = (merged[\"unit_price\"]*merged[\"quantity\"])\n",
        "merged = merged.loc[(merged[\"year\"] == 2022), :]\n",
        "merged.head(15)\n"
      ],
      "metadata": {
        "id": "J8B9ZHNwfPqf"
      },
      "execution_count": null,
      "outputs": []
    },
    {
      "cell_type": "code",
      "source": [
        "### Result\n",
        "result = (merged.groupby(\"order_month\")[\"sales\"]).sum().to_frame(\"monthly_sales\").sort_values(by = \"order_month\").reset_index()\n",
        "result[\"rolling_average\"] = result[\"monthly_sales\"].expanding().mean().round(0)\n",
        "result"
      ],
      "metadata": {
        "id": "yck6Vk83kKWO"
      },
      "execution_count": null,
      "outputs": []
    }
  ]
}