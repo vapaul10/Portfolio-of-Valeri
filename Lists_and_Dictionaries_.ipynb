{
  "nbformat": 4,
  "nbformat_minor": 0,
  "metadata": {
    "colab": {
      "name": "Copy of Copy of Week 5 Lists and Dictionaries-Homework(Final).ipynb",
      "provenance": [],
      "collapsed_sections": [],
      "include_colab_link": true
    },
    "kernelspec": {
      "name": "python3",
      "display_name": "Python 3"
    }
  },
  "cells": [
    {
      "cell_type": "markdown",
      "metadata": {
        "id": "view-in-github",
        "colab_type": "text"
      },
      "source": [
        "<a href=\"https://colab.research.google.com/github/vapaul10/Portfolio-of-Valeri/blob/main/Lists_and_Dictionaries_.ipynb\" target=\"_parent\"><img src=\"https://colab.research.google.com/assets/colab-badge.svg\" alt=\"Open In Colab\"/></a>"
      ]
    },
    {
      "cell_type": "markdown",
      "metadata": {
        "id": "G26gBIgQtPJm"
      },
      "source": [
        "#5.2 List Methods Exercise 1a\n",
        "Assume that the variable data refers to the list [5, 3, 7]. Write the values of the **following** expressions:\n",
        "\n",
        "a. **data[2]**\n",
        "\n",
        "b. data[-1]\n",
        "\n",
        "c. len(data)\n",
        "\n",
        "d. data[0:2]\n",
        "\n",
        "e. 0 in data\n",
        "\n",
        "f.  data + [2, 10, 5]\n"
      ]
    },
    {
      "cell_type": "code",
      "metadata": {
        "id": "SI1dGi7vtWKy",
        "colab": {
          "base_uri": "https://localhost:8080/"
        },
        "outputId": "51f9ed0a-4d60-4e44-df10-ccbf926f66ce"
      },
      "source": [
        "data = [5,3,7]\n",
        "data\n",
        "data[2]"
      ],
      "execution_count": null,
      "outputs": [
        {
          "output_type": "execute_result",
          "data": {
            "text/plain": [
              "7"
            ]
          },
          "metadata": {},
          "execution_count": 1
        }
      ]
    },
    {
      "cell_type": "markdown",
      "metadata": {
        "id": "_BoXyXiYuBlj"
      },
      "source": [
        "#5.2 List Methods Exercise 1b\n",
        "Assume that the variable data refers to the list [5, 3, 7]. Write the values of the following expressions:\n",
        "\n",
        "a. data[2]\n",
        "\n",
        "**b. data[-1]**\n",
        "\n",
        "c. len(data)\n",
        "\n",
        "d. data[0:2]\n",
        "\n",
        "e. 0 in data\n",
        "\n",
        "f. data + [2, 10, 5]"
      ]
    },
    {
      "cell_type": "code",
      "metadata": {
        "id": "gF4u3zZluBJy",
        "colab": {
          "base_uri": "https://localhost:8080/"
        },
        "outputId": "f04ab674-7c8e-42f2-a386-9cbdaba287d7"
      },
      "source": [
        "data = [5,3,7]\n",
        "data\n",
        "data[-1]"
      ],
      "execution_count": null,
      "outputs": [
        {
          "output_type": "execute_result",
          "data": {
            "text/plain": [
              "7"
            ]
          },
          "metadata": {},
          "execution_count": 2
        }
      ]
    },
    {
      "cell_type": "markdown",
      "metadata": {
        "id": "L8xWA2GHul0z"
      },
      "source": [
        "#5.2 List Methods Exercise 1c\n",
        "\n",
        "Assume that the variable data refers to the list [5, 3, 7]. Write the values of the following expressions:\n",
        "\n",
        "a. data[2]\n",
        "\n",
        "b. data[-1]\n",
        "\n",
        "**c. len(data)**\n",
        "\n",
        "d. data[0:2]\n",
        "\n",
        "e. 0 in data\n",
        "\n",
        "f. data + [2, 10, 5]"
      ]
    },
    {
      "cell_type": "code",
      "metadata": {
        "id": "YaFVLs0Puulx",
        "colab": {
          "base_uri": "https://localhost:8080/"
        },
        "outputId": "e4b4ae6b-bceb-486c-a076-aa603b9bfbb7"
      },
      "source": [
        "data = [5, 3, 7]\n",
        "data\n",
        "len(data)"
      ],
      "execution_count": null,
      "outputs": [
        {
          "output_type": "execute_result",
          "data": {
            "text/plain": [
              "3"
            ]
          },
          "metadata": {},
          "execution_count": 3
        }
      ]
    },
    {
      "cell_type": "markdown",
      "metadata": {
        "id": "BpxA0mUYvBEA"
      },
      "source": [
        "#5.2 List Methods Exercise 1d\n",
        "\n",
        "Assume that the variable data refers to the list [5, 3, 7]. Write the values of the following expressions:\n",
        "a. data[2]\n",
        "\n",
        "b. data[-1]\n",
        "\n",
        "c. len(data)\n",
        "\n",
        "d. **data[0:2]**\n",
        "\n",
        "e. 0 in data\n",
        "\n",
        "f. data + [2, 10, 5]"
      ]
    },
    {
      "cell_type": "code",
      "metadata": {
        "id": "S5OiO-c3vThD",
        "colab": {
          "base_uri": "https://localhost:8080/"
        },
        "outputId": "b012f54e-c353-4c1a-d404-15c0523b913d"
      },
      "source": [
        "data = [5, 3, 7]\n",
        "data\n",
        "data[0:2]"
      ],
      "execution_count": null,
      "outputs": [
        {
          "output_type": "execute_result",
          "data": {
            "text/plain": [
              "[5, 3]"
            ]
          },
          "metadata": {},
          "execution_count": 4
        }
      ]
    },
    {
      "cell_type": "markdown",
      "metadata": {
        "id": "gQ6DGBOswG--"
      },
      "source": [
        "#5.2 List Methods Exercise 1e\n",
        "\n",
        "Assume that the variable data refers to the list [5, 3, 7]. Write the values of the following expressions: a. data[2]\n",
        "\n",
        "b. data[-1]\n",
        "\n",
        "c. len(data)\n",
        "\n",
        "d. data[0:2]\n",
        "\n",
        "e. **0 in data**\n",
        "\n",
        "f. data + [2, 10, 5]"
      ]
    },
    {
      "cell_type": "code",
      "metadata": {
        "id": "EM-mWX4gwP3F",
        "colab": {
          "base_uri": "https://localhost:8080/"
        },
        "outputId": "ba552ab7-2397-4aed-8f26-198b51b7c681"
      },
      "source": [
        "data = [5, 3, 7]\n",
        "data\n",
        "data == '0'"
      ],
      "execution_count": null,
      "outputs": [
        {
          "output_type": "execute_result",
          "data": {
            "text/plain": [
              "False"
            ]
          },
          "metadata": {},
          "execution_count": 5
        }
      ]
    },
    {
      "cell_type": "markdown",
      "metadata": {
        "id": "WyOu58vS0bD2"
      },
      "source": [
        "#5.2  Exercise 1f\n",
        "Assume that the variable data refers to the list [5, 3, 7]. Write the values of the following expressions:\n",
        "\n",
        "a. data[2]\n",
        "\n",
        "b. data[-1]\n",
        "\n",
        "c. len(data)\n",
        "\n",
        "d. data[0:2]\n",
        "\n",
        "e. 0 in data\n",
        "\n",
        "f. **data + [2, 10, 5]**"
      ]
    },
    {
      "cell_type": "code",
      "metadata": {
        "id": "L2OskO-f0mjL",
        "colab": {
          "base_uri": "https://localhost:8080/"
        },
        "outputId": "0d110ab9-1eb3-471b-cbf9-b89a71b2e2dc"
      },
      "source": [
        "data = [5, 3, 7]\n",
        "data\n",
        "data + [2, 10, 5]"
      ],
      "execution_count": null,
      "outputs": [
        {
          "output_type": "execute_result",
          "data": {
            "text/plain": [
              "[5, 3, 7, 2, 10, 5]"
            ]
          },
          "metadata": {},
          "execution_count": 6
        }
      ]
    },
    {
      "cell_type": "markdown",
      "metadata": {
        "id": "E2kessFaCqk8"
      },
      "source": [
        "#5.2 Exercise 1c\n",
        "\n",
        "5.2 List Methods Exercise\n",
        "Assume that the variable data refers to the list [5, 3, 7]. Write the values of the following expressions:\n",
        "\n",
        "a. data[2]\n",
        "\n",
        "b. data[-1]\n",
        "\n",
        "**c. len(data)**\n",
        "\n",
        "d. data[0:2]\n",
        "\n",
        "e. 0 in data\n",
        "\n",
        "f. data + [2, 10, 5]"
      ]
    },
    {
      "cell_type": "code",
      "metadata": {
        "id": "Yb9TnxulC0DP",
        "colab": {
          "base_uri": "https://localhost:8080/"
        },
        "outputId": "4d49e708-d9d3-48cb-d9b5-f9f0c94beb46"
      },
      "source": [
        "data = [5, 3, 7]\n",
        "data\n",
        "len(data)"
      ],
      "execution_count": null,
      "outputs": [
        {
          "output_type": "execute_result",
          "data": {
            "text/plain": [
              "3"
            ]
          },
          "metadata": {},
          "execution_count": 7
        }
      ]
    },
    {
      "cell_type": "markdown",
      "metadata": {
        "id": "sC0gIodze4Tg"
      },
      "source": [
        "#5.2 Exercise 1d\n",
        "5.2 List Methods Exercise Assume that the variable data refers to the list [5, 3, 7]. Write the values of the following expressions:\n",
        "\n",
        "a. data[2]\n",
        "\n",
        "b. data[-1]\n",
        "\n",
        "c. len(data)\n",
        "\n",
        "**d. data[0:2]**\n",
        "\n",
        "e. 0 in data\n",
        "\n",
        "f. data + [2, 10, 5]"
      ]
    },
    {
      "cell_type": "code",
      "metadata": {
        "id": "h6Fs4xSye34A",
        "colab": {
          "base_uri": "https://localhost:8080/"
        },
        "outputId": "8285b206-db93-48d8-e1da-425814c97e23"
      },
      "source": [
        "data = [5, 3, 7]\n",
        "data\n",
        "data[0:2]"
      ],
      "execution_count": null,
      "outputs": [
        {
          "output_type": "execute_result",
          "data": {
            "text/plain": [
              "[5, 3]"
            ]
          },
          "metadata": {},
          "execution_count": 8
        }
      ]
    },
    {
      "cell_type": "markdown",
      "metadata": {
        "id": "onZYk8J-fElC"
      },
      "source": [
        "#5.2 List Methods Exercise 1e\n",
        "Assume that the variable data refers to the list [5, 3, 7]. Write the values of the following expressions: a. data[2]\n",
        "\n",
        "b. data[-1]\n",
        "\n",
        "c. len(data)\n",
        "\n",
        "d. data[0:2]\n",
        "\n",
        "**e. 0 in data**\n",
        "\n",
        "f. data + [2, 10, 5]"
      ]
    },
    {
      "cell_type": "code",
      "metadata": {
        "id": "q1BcWonpfJcB",
        "colab": {
          "base_uri": "https://localhost:8080/"
        },
        "outputId": "79214057-a96e-4d91-fcd9-8f0c0d4375cf"
      },
      "source": [
        "data = [5, 3, 7]\n",
        "data\n",
        "data == '0'"
      ],
      "execution_count": null,
      "outputs": [
        {
          "output_type": "execute_result",
          "data": {
            "text/plain": [
              "False"
            ]
          },
          "metadata": {},
          "execution_count": 9
        }
      ]
    },
    {
      "cell_type": "markdown",
      "metadata": {
        "id": "U9BPBBsQfNVG"
      },
      "source": [
        "#5.1 Exercise 1f\n",
        "\n",
        "Assume that the variable data refers to the list [5, 3, 7]. Write the values of the following expressions:\n",
        "\n",
        "a. data[2]\n",
        "\n",
        "b. data[-1]\n",
        "\n",
        "c. len(data)\n",
        "\n",
        "d. data[0:2]\n",
        "\n",
        "e. 0 in data\n",
        "\n",
        "**f. data + [2, 10, 5]**\n",
        "\n",
        "g. tuple(data)"
      ]
    },
    {
      "cell_type": "code",
      "metadata": {
        "id": "0-j-ourGfU64",
        "colab": {
          "base_uri": "https://localhost:8080/"
        },
        "outputId": "eda44ade-5ad8-420c-b241-24b8ab581867"
      },
      "source": [
        "data = [5, 3, 7]\n",
        "data\n",
        "data + [2, 10, 5]"
      ],
      "execution_count": null,
      "outputs": [
        {
          "output_type": "execute_result",
          "data": {
            "text/plain": [
              "[5, 3, 7, 2, 10, 5]"
            ]
          },
          "metadata": {},
          "execution_count": 10
        }
      ]
    },
    {
      "cell_type": "markdown",
      "metadata": {
        "id": "PD27wbyTfY-X"
      },
      "source": [
        "#5.2 Exercise 1g\n",
        "Assume that the variable data refers to the list [5, 3, 7]. Write the values of the following expressions:\n",
        "\n",
        "a. data[2]\n",
        "\n",
        "b. data[-1]\n",
        "\n",
        "c. len(data)\n",
        "\n",
        "d. data[0:2]\n",
        "\n",
        "e. 0 in data\n",
        "\n",
        "f. data + [2, 10, 5]\n",
        "\n",
        "**g. tuple(data)**\n"
      ]
    },
    {
      "cell_type": "code",
      "metadata": {
        "id": "fOUH9Q4XfevF",
        "colab": {
          "base_uri": "https://localhost:8080/",
          "height": 35
        },
        "outputId": "c0d760f9-341d-4dda-dbc8-69a003d56883"
      },
      "source": [
        "data =('5,' '3,' '7')   #tuple because of the parentheses\n",
        "data"
      ],
      "execution_count": null,
      "outputs": [
        {
          "output_type": "execute_result",
          "data": {
            "application/vnd.google.colaboratory.intrinsic+json": {
              "type": "string"
            },
            "text/plain": [
              "'5,3,7'"
            ]
          },
          "metadata": {},
          "execution_count": 11
        }
      ]
    },
    {
      "cell_type": "markdown",
      "metadata": {
        "id": "hH-n2A8uVpmB"
      },
      "source": [
        "#5.2 Exercise 2a\n",
        "Assume that the variable data refers to the list [5, 3, 7]. Write the expressions that perform the following tasks:\n",
        "\n",
        "a. ** Replace the value at position 0 in data with that value’s negation.**\n",
        "\n",
        "b. Add the value 10 to the end of data.\n",
        "\n",
        "c. Insert the value 22 at position 2 in data.\n",
        "\n",
        "d. Remove the value at position 1 in data"
      ]
    },
    {
      "cell_type": "code",
      "metadata": {
        "id": "UhP4Gu9GVudX",
        "colab": {
          "base_uri": "https://localhost:8080/"
        },
        "outputId": "69d72311-92f5-401f-cc9f-64bb426589c5"
      },
      "source": [
        "data = [5, 3, 7]\n",
        "data\n",
        "data[0] = -data[0]\n",
        "data"
      ],
      "execution_count": null,
      "outputs": [
        {
          "output_type": "execute_result",
          "data": {
            "text/plain": [
              "[-5, 3, 7]"
            ]
          },
          "metadata": {},
          "execution_count": 12
        }
      ]
    },
    {
      "cell_type": "markdown",
      "metadata": {
        "id": "7m2y08fuVyO1"
      },
      "source": [
        "# 5.2 Exercise 2b\n",
        "Assume that the variable data refers to the list [5, 3, 7]. Write the expressions that perform the following tasks:\n",
        "\n",
        "a. Replace the value at position 0 in data with that value’s negation.\n",
        "\n",
        "b. *Add the value 10 to the end of data. *\n",
        "\n",
        "c. Insert the value 22 at position 2 in data.\n",
        "\n",
        "d. Remove the value at position 1 in data"
      ]
    },
    {
      "cell_type": "code",
      "metadata": {
        "id": "ED1XmXJUV0lM",
        "colab": {
          "base_uri": "https://localhost:8080/"
        },
        "outputId": "301852ec-75d2-49a1-bd5d-f84a55ae0443"
      },
      "source": [
        "data = [5, 3, 7]\n",
        "data\n",
        "data.append(10)\n",
        "data"
      ],
      "execution_count": null,
      "outputs": [
        {
          "output_type": "execute_result",
          "data": {
            "text/plain": [
              "[5, 3, 7, 10]"
            ]
          },
          "metadata": {},
          "execution_count": 13
        }
      ]
    },
    {
      "cell_type": "markdown",
      "metadata": {
        "id": "RMPSNKlbV71O"
      },
      "source": [
        "#5.2 Exercise 2c\n",
        "Assume that the variable data refers to the list [5, 3, 7]. Write the expressions that perform the following tasks:\n",
        "\n",
        "a. Replace the value at position 0 in data with that value’s negation.\n",
        "\n",
        "b. Add the value 10 to the end of data.\n",
        "\n",
        "c. Insert the value 22 at position 2 in data.\n",
        "\n",
        "d. Remove the value at position 1 in data"
      ]
    },
    {
      "cell_type": "code",
      "metadata": {
        "id": "6syDxQqsV_cH",
        "colab": {
          "base_uri": "https://localhost:8080/"
        },
        "outputId": "db395ee8-ff61-4585-dc02-d822bca5b7bb"
      },
      "source": [
        "data = [5, 3, 7]\n",
        "data\n",
        "data.insert(2, 22)\n",
        "data"
      ],
      "execution_count": null,
      "outputs": [
        {
          "output_type": "execute_result",
          "data": {
            "text/plain": [
              "[5, 3, 22, 7]"
            ]
          },
          "metadata": {},
          "execution_count": 14
        }
      ]
    },
    {
      "cell_type": "markdown",
      "metadata": {
        "id": "-RacbszNWBcF"
      },
      "source": [
        "# 5.2 Exercise 2d\n",
        "Assume that the variable data refers to the list [5, 3, 7]. Write the expressions that perform the following tasks:\n",
        "\n",
        "a. Replace the value at position 0 in data with that value’s negation.\n",
        "\n",
        "b. Add the value 10 to the end of data.\n",
        "\n",
        "c. Insert the value 22 at position 2 in data.\n",
        "\n",
        "d. Remove the value at position 1 in data"
      ]
    },
    {
      "cell_type": "code",
      "metadata": {
        "id": "9cEfN_GsWDs6",
        "colab": {
          "base_uri": "https://localhost:8080/"
        },
        "outputId": "35651139-9dd1-4491-f1ba-6aa89e30505e"
      },
      "source": [
        "data = [5, 3, 7]\n",
        "data\n",
        "data.pop(1)\n",
        "data"
      ],
      "execution_count": null,
      "outputs": [
        {
          "output_type": "execute_result",
          "data": {
            "text/plain": [
              "[5, 7]"
            ]
          },
          "metadata": {},
          "execution_count": 15
        }
      ]
    },
    {
      "cell_type": "markdown",
      "metadata": {
        "id": "B6biizXiWJmJ"
      },
      "source": [
        "#5.2 Exercise 3\n",
        "What is a mutator method? Explain why mutator methods usually return the value None. \"\"\" Mutator methods, like insert, append, extend, pop and sort are usually not valuable to the caller. Python automatically returns call with none. \"\"\"\n"
      ]
    },
    {
      "cell_type": "code",
      "metadata": {
        "id": "_RfueF54WM80",
        "colab": {
          "base_uri": "https://localhost:8080/"
        },
        "outputId": "94761e6b-d1b2-4b29-ddf2-d8e36f0aaecd"
      },
      "source": [
        "data = ['date', 'banana', 'orange', 'chocolate strawberries']\n",
        "data.sort()\n",
        "data"
      ],
      "execution_count": null,
      "outputs": [
        {
          "output_type": "execute_result",
          "data": {
            "text/plain": [
              "['banana', 'chocolate strawberries', 'date', 'orange']"
            ]
          },
          "metadata": {},
          "execution_count": 16
        }
      ]
    },
    {
      "cell_type": "markdown",
      "metadata": {
        "id": "0jDRg0CnWP7i"
      },
      "source": [
        "#5.2 Exercise 4\n",
        "Describe the costs and benefits of aliasing and explain how it can be avoided."
      ]
    },
    {
      "cell_type": "code",
      "metadata": {
        "id": "rfp5SBXIWTFk"
      },
      "source": [
        "# \"\"\"\"\"\"In the case of large numbers or different type of values you might use aliasing. \n",
        "# Also, when using immutable strings, aliasing saves the memory. \n",
        "# To avoid aliasing, it is recommended to mutate the list or create a new object and copy it \"\"\" \"\"\""
      ],
      "execution_count": null,
      "outputs": []
    },
    {
      "cell_type": "code",
      "metadata": {
        "id": "wIo9tMJCWU0Z"
      },
      "source": [
        ""
      ],
      "execution_count": null,
      "outputs": []
    },
    {
      "cell_type": "markdown",
      "metadata": {
        "id": "xN6PtUjNWgAy"
      },
      "source": [
        "#5.2 Exercise 5\n",
        " Write a loop that accumulates the sum of the numbers in a list named \"data.\""
      ]
    },
    {
      "cell_type": "code",
      "metadata": {
        "id": "v0_YrazJWkkq",
        "colab": {
          "base_uri": "https://localhost:8080/"
        },
        "outputId": "950b2f2b-10ce-4a5a-c424-5a1425af7fc9"
      },
      "source": [
        "data = [112 + 42]\n",
        "sum = 0\n",
        "for item in data:\n",
        "  sum = data\n",
        "data"
      ],
      "execution_count": null,
      "outputs": [
        {
          "output_type": "execute_result",
          "data": {
            "text/plain": [
              "[154]"
            ]
          },
          "metadata": {},
          "execution_count": 18
        }
      ]
    },
    {
      "cell_type": "markdown",
      "metadata": {
        "id": "hC2UfoW2Wm1_"
      },
      "source": [
        "# 5.3.3 Exercise 1 \n",
        "What roles do the parameters and the return statement play in a function definition?bold text"
      ]
    },
    {
      "cell_type": "code",
      "metadata": {
        "id": "X-217TxIWlql"
      },
      "source": [
        "# Answer to 5.3 Exercise 1#\n",
        "# A parameter is the name used in the function definition for an argument that is passed to the function when it is called. \n",
        "# A return is placed at an exit point of a function and should return a value. \n",
        "# When there is no function in the return statement, Python returns, None, automatically.\""
      ],
      "execution_count": null,
      "outputs": []
    },
    {
      "cell_type": "markdown",
      "metadata": {
        "id": "Wdzi2O7HWzeu"
      },
      "source": [
        "# 5.3.4 Exercise 2\n",
        "Define a function named \"even.\" This function expects a number as an argument and returns True if the number is divisible by 2, or it returns False otherwise.(Hint: A number is evenly divisible by 2 if the remainder is 0.)\n"
      ]
    },
    {
      "cell_type": "code",
      "metadata": {
        "id": "gQetVlv4W2uD",
        "colab": {
          "base_uri": "https://localhost:8080/"
        },
        "outputId": "1b4f2c5d-65b1-44bc-d503-a274d9b43d29"
      },
      "source": [
        "\"\"\"\n",
        "File:  make even\n",
        "\"\"\"\n",
        "\n",
        "def main():\n",
        "    \"\"\" the main function\"\"\"\n",
        "    number = float(input(\"Enter a number:  \"))\n",
        "    result = even(number)\n",
        "    print(\"The even number of:  \", number,  \"is\", result)\n",
        "    \n",
        "def even(x):\n",
        "    \"\"\"Returns the even of x. \"\"\"\n",
        "    return x % 2 == 0\n",
        "\n",
        "# The entry point for program execution\n",
        "if __name__ == \"__main__\":\n",
        "    main()\n",
        "    \n",
        "\"\"\"\n",
        "## File:  make even\n",
        "\"\"\"\n",
        "\n",
        "def main():\n",
        "    \"\"\" the main function\"\"\"\n",
        "    number = float(input(\"Enter a number:  \"))\n",
        "    result = even(number)\n",
        "    print(\"The even number of:  \", number,  \"is\", result)\n",
        "    \n",
        "def even(x):\n",
        "    \"\"\"Returns the even of x. \"\"\"\n",
        "    return x % 2 == 0\n",
        "\n",
        "# The entry point for program execution\n",
        "if __name__ == \"__main__\":\n",
        "    main()"
      ],
      "execution_count": null,
      "outputs": [
        {
          "output_type": "stream",
          "name": "stdout",
          "text": [
            "Enter a number:  2\n",
            "The even number of:   2.0 is True\n",
            "Enter a number:  67\n",
            "The even number of:   67.0 is False\n"
          ]
        }
      ]
    },
    {
      "cell_type": "markdown",
      "metadata": {
        "id": "m_1tzw8XZ5cu"
      },
      "source": [
        "#5.3.5 Exercise 3\n",
        "\n",
        "Use the function even to simplify the definition of the function odd presented in this section."
      ]
    },
    {
      "cell_type": "code",
      "metadata": {
        "id": "XGvMkjSuh-BW"
      },
      "source": [
        "\"\"\"\n",
        "File: Simplifytoodd\n",
        "\"\"\"\n",
        "def main():\n",
        "    \"\"\" the main function\"\"\"\n",
        "    number = float(input(\"Enter a number:  \"))\n",
        "    result = odd(number)\n",
        "    print(\"This is simplified to odd. \\n \", number,  \"is\", result)\n",
        "    \n",
        "def odd(x):\n",
        "    #Returns True if value is odd or otherwise False.#\n",
        "    if x % 2 == 1:\n",
        "        return True\n",
        "    else:\n",
        "        return False \n",
        "\n",
        "# The entry point for program execution\n",
        "if __name__ == \"__main__\":\n",
        "    main()\n",
        "  \n",
        "#pause = (str(input(\"Click Enter to End Program: \"))"
      ],
      "execution_count": null,
      "outputs": []
    },
    {
      "cell_type": "markdown",
      "metadata": {
        "id": "GVh9fodrlU-r"
      },
      "source": [
        "# 5.3.6  Exercise 4\n",
        "\n",
        "Define a function named summation. This function expects two numbers, named low and high, as arguments. The function computes and returns the sum of the numbers between low and high, inclusive."
      ]
    },
    {
      "cell_type": "code",
      "metadata": {
        "id": "-F8a_kHpleF8"
      },
      "source": [
        "\"\"\"\n",
        "File: sum\n",
        "\"\"\"\n",
        "\n",
        "def main():\n",
        "#   \"\"\" the main function\"\"\"\n",
        "# number = int(input(\"Enter a result:  \"))\n",
        "#    result = result(number)\n",
        "#    print(\"This is summation: \\n \", number,  \"is\", result)\n",
        "\n",
        "def summation(lower, upper):\n",
        "   result = 0\n",
        "   while lower <= upper:\n",
        "     result += lower\n",
        "     lower += 1\n",
        "   return result\n",
        "\n",
        "# The entry point for program execution\n",
        "# if __name__ == \"__main__\":\n",
        "# main()"
      ],
      "execution_count": null,
      "outputs": []
    },
    {
      "cell_type": "markdown",
      "metadata": {
        "id": "1gdQRKxxPl1R"
      },
      "source": [
        "5.3.7 Exercise 5"
      ]
    },
    {
      "cell_type": "code",
      "metadata": {
        "id": "ZcjM3bAEPsoo"
      },
      "source": [
        "\"\"\" # The purpose of a main function.\n",
        "# It is important to name a main function in the script, especially with several\n",
        "cooperating functions, because the main function purpose might be to take inputs\n",
        "and process each one by calling other functions, and printing out the results. \n",
        "For example when Python loads a module, and the code for both function\n",
        "definitions is loaded and compiled, yet it will not executed until the main is\n",
        "then called within an if statement as the last step in the script.\n",
        "This transfers the directions of the first instruction to the main function’s\n",
        "definition.\n",
        "\"\"\""
      ],
      "execution_count": null,
      "outputs": []
    },
    {
      "cell_type": "markdown",
      "metadata": {
        "id": "PGr4MqrbD3x_"
      },
      "source": [
        "# 5.4.4  Exercise 2\n",
        "Assume that the variable data refers to the dictionary {'b':20, 'a':35}. Write the expressions that perform the following tasks: \n",
        "\n",
        "a.  Replace the value at the key 'b' in data with that value’s negation.\n",
        "\n",
        "b.  Add the key/value pair 'c':40 to data. \n",
        "\n",
        "c.  Remove the value at key 'b' in data, safely. \n",
        "\n",
        "d.  Print the keys in data in alphabetical order.\n",
        "\n"
      ]
    },
    {
      "cell_type": "markdown",
      "metadata": {
        "id": "1LlByfDAW8cK"
      },
      "source": [
        "# 5.4.4  Exercise 2a\n",
        "Assume that the variable data refers to the dictionary {'b':20, 'a':35}. Write the expressions that perform the following tasks: \n",
        "\n",
        "**a.  Replace the value at the key 'b' in data with that value’s negation.**"
      ]
    },
    {
      "cell_type": "code",
      "metadata": {
        "id": "9FIuZrFvGbgr"
      },
      "source": [
        "aList: {'b':\"20\",'a':'35'}\n",
        "first = [35]\n",
        "second = first\n",
        "first\n",
        "# [10, 20, 30]\n",
        "# second\n",
        "#[10, 20, 30]\n",
        "#first[1] = 99\n",
        "# first\n",
        "# if target in first:\n",
        "# print(first)\n",
        "# else:\n",
        "# print(\"Sorry correct. Try again! \\n\", first)"
      ],
      "execution_count": null,
      "outputs": []
    },
    {
      "cell_type": "markdown",
      "metadata": {
        "id": "Mvec1bR6XZ5A"
      },
      "source": [
        "# 5.4.4 Exercise 2b\n",
        "Assume that the variable data refers to the dictionary {'b':20, 'a':35}. Write the expressions that perform the following task(s):\n",
        "\n",
        "**b. Add the key/value pair 'c':40 to data.**"
      ]
    },
    {
      "cell_type": "markdown",
      "metadata": {
        "id": "Jg3xQ-Y6Y0C9"
      },
      "source": [
        ""
      ]
    },
    {
      "cell_type": "code",
      "metadata": {
        "id": "BfyW-EFRTWJr"
      },
      "source": [
        "info = {'b':20, 'a':35}\n",
        "info[\"key/value pair\"] = \"'c':40\"\n",
        "info"
      ],
      "execution_count": null,
      "outputs": []
    },
    {
      "cell_type": "markdown",
      "metadata": {
        "id": "4r99nF0-bGuF"
      },
      "source": [
        "# 5.4.4  Exercise 2c\n",
        "Assume that the variable data refers to the dictionary {'b':20, 'a':35}. Write the expressions that perform the following tasks: \n",
        "\n",
        "**c.  Remove the value at key 'b' in data, safely.**"
      ]
    },
    {
      "cell_type": "code",
      "metadata": {
        "id": "nODfVj0HLb51"
      },
      "source": [
        "info = {'b':20, 'a':35}\n",
        "print(info.pop('b', None))\n",
        "info\n"
      ],
      "execution_count": null,
      "outputs": []
    },
    {
      "cell_type": "markdown",
      "metadata": {
        "id": "9KAfFiXmb85t"
      },
      "source": [
        "#5.4.4 Exercise 2d\n",
        "Assume that the variable data refers to the dictionary {'b':20, 'a':35}. Write the expressions that perform the following tasks:\n",
        "\n",
        "**d. Print the keys in data in alphabetical order.**"
      ]
    },
    {
      "cell_type": "code",
      "metadata": {
        "id": "VhVif6y5Nuow"
      },
      "source": [
        "info = {'b':20,'a':35}\n",
        "for i in sorted (theKeys.keys()):\n",
        "  print(i)"
      ],
      "execution_count": null,
      "outputs": []
    },
    {
      "cell_type": "markdown",
      "metadata": {
        "id": "vYA8pEfmoX8H"
      },
      "source": [
        "# 5.5 Summary"
      ]
    },
    {
      "cell_type": "markdown",
      "metadata": {
        "id": "03OXM8UFfWVl"
      },
      "source": [
        "•    A list is a sequence of zero or more elements. The elements can be of any type. The len function returns the number of elements in its list argument. Each element occupies a position in the list. The positions range from 0 to the length of the list minus 1. \n",
        "\n",
        "•    Lists can be manipulated with many of the operators used with strings, such as the subscript, concatenation, comparison, and in operators. Slicing a list returns a sublist.\n",
        "\n",
        "•    The list is a mutable data structure. An element can be replaced with a new element, added to the list, or removed from the list. Replacement uses the subscript operator. The list type includes several methods for insertion and removal of elements. \n",
        "\n",
        "•    The method index returns the position of a target element in a list. If the element is not in the list, an error is raised. \n",
        "\n",
        "•    The elements of a list can be arranged in ascending order by calling the sort method. \n",
        "\n",
        "•    Mutator methods are called to change the state of an object. These methods usually return the value None. This value is automatically returned by any function or method that does not have a return statement. \n",
        "\n",
        "•    Assignment of one variable to another variable causes both variables to refer to the same data object. When two or more variables refer to the same data object, they are aliases. When that data value is a mutable object such as a list, side effects can occur. A side effect is an unexpected change to the contents of a data object. To prevent side effects, avoid aliasing by assigning a copy of the original data object to the new variable. \n",
        "\n",
        "•    A tuple is quite similar to a list, but it has an immutable structure. \n",
        "\n",
        "•    A function definition consists of a header and a body. The header contains the function’s name and a parenthesized list of argument names. The body consists of a set of statements. \n",
        "\n",
        "•    The return statement returns a value from a function definition. \n",
        "\n",
        "•    The number and positions of arguments in a function call must match the number and positions of required parameters specified in the function’s definition. \n",
        "\n",
        "•    A dictionary associates a set of keys with values. Dictionaries organize data by content rather than position. \n",
        "\n",
        "•    The subscript operator is used to add a new key/value pair to a dictionary or to replace a value associated with an existing key. \n",
        "\n",
        "•    The dict type includes methods to access and remove data in a dictionary. \n",
        "\n",
        "•    The for loop can traverse the keys of a dictionary. The methods keys and values return access to a dictionary’s keys and values, respectively. \n",
        "\n",
        "•    Bottom-up testing of a program begins by testing its lower-level functions and then testing the functions that depend on those lower-level functions. Top-down testing begins by testing the program’s main function and then testing the functions on which the main function depends. These lower-level functions are initially defined to return their names."
      ]
    },
    {
      "cell_type": "markdown",
      "metadata": {
        "id": "kT_Q3SbdfdK0"
      },
      "source": [
        "# 5.6 Project 1\n",
        "Write a program that allows the user to navigate the lines of text in a file. The program should prompt the user for a filename and input the lines of text into a list. The program then enters a loop in which it prints the number of lines in the file and prompts the user for a line number. Actual line numbers range from 1 to the number of lines in the file. If the input is 0, the program quits. Otherwise, the program prints the line associated with that number."
      ]
    },
    {
      "cell_type": "code",
      "metadata": {
        "id": "qQL5MYEifl8a"
      },
      "source": [
        "\"\"\"\n",
        "File: navigate.py\n",
        "\n",
        "Allows the user to navigate to any line in a text file.\n",
        "\"\"\"\n",
        "\n",
        "# Take the input file name\n",
        "inName = input(\"Access by entering filename (name.txt) copy & paste just as it appears, /content/drive/My Drive/name.txt : \\n\")\n",
        "\n",
        "# Open the input file and read the text\n",
        "inputFile = open(inName, 'r')\n",
        "lines = []\n",
        "for line in inputFile:\n",
        "    lines.append(line)\n",
        "\n",
        "# Loop for line numbers from the user until she enters 0\n",
        "# and prints the line's number followed by the line\n",
        "while True:\n",
        "    print(\"The file has\", len(lines), \"lines.\")\n",
        "    if len(lines) == 0:\n",
        "        break\n",
        "    lineNumber = int(input(\"Enter a line number [0 to quit]: \"))\n",
        "    if lineNumber == 0:\n",
        "        break\n",
        "    elif lineNumber >= len(lines):\n",
        "        print(\"ERROR: line number must be less than\", len(lines))\n",
        "    else:\n",
        "        print(lineNumber, \": \", lines[lineNumber])\n",
        "    \n",
        "print(\"Click enter/return to close: \")"
      ],
      "execution_count": null,
      "outputs": []
    },
    {
      "cell_type": "code",
      "metadata": {
        "id": "YrJINjn-fh_K"
      },
      "source": [
        ""
      ],
      "execution_count": null,
      "outputs": []
    },
    {
      "cell_type": "markdown",
      "metadata": {
        "id": "cEKaO7q9pR8V"
      },
      "source": [
        "#5.6 Project 2 Function\n",
        "\n",
        "DecimaltoRep \n",
        "Define a function decimalToRep that returns the representation of an integer in a given base. The two arguments should be the integer and the base. The function should return a string. It should use a lookup table that associates integers with digits. Include a main function that tests the conversion function with numbers in several bases."
      ]
    },
    {
      "cell_type": "code",
      "metadata": {
        "id": "NXt7TK3cpXxZ"
      },
      "source": [
        "\"\"\"\n",
        "File: convert-vp.py\n",
        "Defines a function decimalToRep that converts a number in decimal to a number in a given base. \n",
        "\"\"\"\n",
        "\n",
        "# Table of integers in bases 2-16 with digits\n",
        "repTable = {0 : ' 0 ', 1 : ' 1 ', 2 : '2? ', 3 : '3', 4 :'4', 5 : '5', 6 :\n",
        "'6', 7 : '7', 8 : '8', 9 : '9', 10 : 'a', 11 : 'b', 12 : 'c', 13 :\n",
        "'d',14 : 'e', 15 : 'f'}\n",
        "\n",
        "def decimalToRep(decimal, base):\n",
        "    \"\"\"Converts the integer value in decimal to a rep in the given base returns the rep as a string.\"\"\"\n",
        "    if decimal == 0:\n",
        "        return '0'\n",
        "    else:\n",
        "        rep = \"\"\n",
        "        while decimal > 0:\n",
        "            remainder = decimal % base\n",
        "            decimal = decimal // base\n",
        "            rep = repTable[remainder] + rep\n",
        "        return rep\n",
        "            \n",
        "def main():\n",
        "    \"\"\"Tests the function.\"\"\"\n",
        "    print(\"Introduction to numbers \", decimalToRep(10, 10))\n",
        "    print(decimalToRep(10, 8))\n",
        "    print(decimalToRep(10, 2))\n",
        "    print(\"Introduction to non-numbers: \", decimalToRep(10, 16))\n",
        "\n",
        "# The entry point for program execution\n",
        "if __name__ == \"__main__\":\n",
        "    main()\n",
        "\n",
        "pause = str(input(\"Click enter to close. \\n\"))\n",
        "\n"
      ],
      "execution_count": null,
      "outputs": []
    },
    {
      "cell_type": "markdown",
      "metadata": {
        "id": "_evxEwjurFaR"
      },
      "source": [
        ""
      ]
    },
    {
      "cell_type": "code",
      "metadata": {
        "id": "pSHBn3AmrGCF"
      },
      "source": [
        "\"\"\"\n",
        "File: unique-vp.py\n",
        "\n",
        "Prints the unique words in a text file (unique.txt) in alphabetical order.\n",
        "\"\"\"\n",
        "\n",
        "# Take the input file name\n",
        "inName = input(\"Enter the input file name  --> enter this unique.txt: \")\n",
        "\n",
        "# Open the input file and initialize list of unique words\n",
        "inputFile = open(inName, 'r')\n",
        "uniqueWords = []\n",
        "\n",
        "# Add the unique words in the file to the list\n",
        "for line in inputFile:\n",
        "    words = line.split()\n",
        "    for word in words:\n",
        "        if not word in uniqueWords:\n",
        "            uniqueWords.append(word)\n",
        "uniqueWords.sort()\n",
        "\n",
        "# Prints the unique words\n",
        "for word in uniqueWords:\n",
        "    print(\"enter exit to end \\n\", word)\n",
        "\n",
        "print(inputFile)\n",
        "    \n",
        "pause = str(input(\"Click enter to close. \\n\"))"
      ],
      "execution_count": null,
      "outputs": []
    }
  ]
}